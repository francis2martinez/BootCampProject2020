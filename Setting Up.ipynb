{
 "cells": [
  {
   "cell_type": "code",
   "execution_count": 1,
   "metadata": {
    "scrolled": true
   },
   "outputs": [],
   "source": [
    "#Import packages\n",
    "import pandas as pd\n",
    "import cv2\n",
    "import numpy as np\n",
    "import matplotlib.pyplot as plt\n",
    "from urllib.request import urlopen"
   ]
  },
  {
   "cell_type": "code",
   "execution_count": 2,
   "metadata": {
    "scrolled": true
   },
   "outputs": [
    {
     "data": {
      "text/html": [
       "<div>\n",
       "<style scoped>\n",
       "    .dataframe tbody tr th:only-of-type {\n",
       "        vertical-align: middle;\n",
       "    }\n",
       "\n",
       "    .dataframe tbody tr th {\n",
       "        vertical-align: top;\n",
       "    }\n",
       "\n",
       "    .dataframe thead th {\n",
       "        text-align: right;\n",
       "    }\n",
       "</style>\n",
       "<table border=\"1\" class=\"dataframe\">\n",
       "  <thead>\n",
       "    <tr style=\"text-align: right;\">\n",
       "      <th></th>\n",
       "      <th>AUTHOR</th>\n",
       "      <th>BORN-DIED</th>\n",
       "      <th>TITLE</th>\n",
       "      <th>DATE</th>\n",
       "      <th>TECHNIQUE</th>\n",
       "      <th>LOCATION</th>\n",
       "      <th>URL</th>\n",
       "      <th>FORM</th>\n",
       "      <th>TYPE</th>\n",
       "      <th>SCHOOL</th>\n",
       "      <th>TIMELINE</th>\n",
       "    </tr>\n",
       "  </thead>\n",
       "  <tbody>\n",
       "    <tr>\n",
       "      <th>26186</th>\n",
       "      <td>MANTEGNA, Andrea</td>\n",
       "      <td>(b. 1431, Isola di Carturo, d. 1506, Mantova)</td>\n",
       "      <td>The Adoration of the Magi (detail)</td>\n",
       "      <td>1460-64</td>\n",
       "      <td>Tempera on wood</td>\n",
       "      <td>Galleria degli Uffizi, Florence</td>\n",
       "      <td>https://www.wga.hu/html/m/mantegna/05/1chapel3...</td>\n",
       "      <td>painting</td>\n",
       "      <td>religious</td>\n",
       "      <td>Italian</td>\n",
       "      <td>1451-1500</td>\n",
       "    </tr>\n",
       "    <tr>\n",
       "      <th>22171</th>\n",
       "      <td>ISRAELS, Isaac Lazarus</td>\n",
       "      <td>(b. 1865, Amsterdam, d. 1934, Den Haag)</td>\n",
       "      <td>In the Dance Hall</td>\n",
       "      <td>1893</td>\n",
       "      <td>Oil on canvas, 76 x 100 cm</td>\n",
       "      <td>Rijksmuseum Kröller-Müller, Otterlo</td>\n",
       "      <td>https://www.wga.hu/html/i/israels/isaac/danceh...</td>\n",
       "      <td>painting</td>\n",
       "      <td>genre</td>\n",
       "      <td>Dutch</td>\n",
       "      <td>1851-1900</td>\n",
       "    </tr>\n",
       "    <tr>\n",
       "      <th>41141</th>\n",
       "      <td>SPINELLO ARETINO</td>\n",
       "      <td>(b. ca. 1345, Arezzo, d. 1410, Arezzo)</td>\n",
       "      <td>Four Evangelists with their Symbols (vault fre...</td>\n",
       "      <td>1388</td>\n",
       "      <td>Fresco</td>\n",
       "      <td>Sacristy, San Miniato al Monte, Florence</td>\n",
       "      <td>https://www.wga.hu/html/s/spinello/spinello/mi...</td>\n",
       "      <td>painting</td>\n",
       "      <td>religious</td>\n",
       "      <td>Italian</td>\n",
       "      <td>1351-1400</td>\n",
       "    </tr>\n",
       "    <tr>\n",
       "      <th>33073</th>\n",
       "      <td>PARLER, Peter</td>\n",
       "      <td>(b. 1330, Schwabisch-Gmünd, d. 1399, Prague)</td>\n",
       "      <td>Self-Portrait</td>\n",
       "      <td>1379-86</td>\n",
       "      <td>Sandstone, life-size</td>\n",
       "      <td>St Vitus Cathedral, Prague</td>\n",
       "      <td>https://www.wga.hu/html/p/parler/selfporx.html</td>\n",
       "      <td>sculpture</td>\n",
       "      <td>portrait</td>\n",
       "      <td>German</td>\n",
       "      <td>1351-1400</td>\n",
       "    </tr>\n",
       "    <tr>\n",
       "      <th>40315</th>\n",
       "      <td>SIGNORELLI, Luca</td>\n",
       "      <td>(b. ca. 1450, Cortona, d. 1523, Cortona)</td>\n",
       "      <td>Sermon and Deeds of the Antichrist (detail)</td>\n",
       "      <td>1499-1502</td>\n",
       "      <td>Fresco</td>\n",
       "      <td>Chapel of San Brizio, Duomo, Orvieto</td>\n",
       "      <td>https://www.wga.hu/html/s/signorel/brizio/1/1a...</td>\n",
       "      <td>painting</td>\n",
       "      <td>religious</td>\n",
       "      <td>Italian</td>\n",
       "      <td>1451-1500</td>\n",
       "    </tr>\n",
       "    <tr>\n",
       "      <th>34471</th>\n",
       "      <td>PISANO, Nicola</td>\n",
       "      <td>(active 1258-1278)</td>\n",
       "      <td>Pulpit</td>\n",
       "      <td>1260</td>\n",
       "      <td>Marble, height 465 cm</td>\n",
       "      <td>Baptistry, Pisa</td>\n",
       "      <td>https://www.wga.hu/html/p/pisano/nicola/1pisa_...</td>\n",
       "      <td>sculpture</td>\n",
       "      <td>religious</td>\n",
       "      <td>Italian</td>\n",
       "      <td>1251-1300</td>\n",
       "    </tr>\n",
       "    <tr>\n",
       "      <th>6880</th>\n",
       "      <td>BRIATI, Giuseppe</td>\n",
       "      <td>(b. 1686, Murano, d. 1772, Murano)</td>\n",
       "      <td>Chandelier</td>\n",
       "      <td>c. 1750</td>\n",
       "      <td>Glassware</td>\n",
       "      <td>Ca' Rezzonico, Venice</td>\n",
       "      <td>https://www.wga.hu/html/b/briati/chandeli.html</td>\n",
       "      <td>glassware</td>\n",
       "      <td>other</td>\n",
       "      <td>Italian</td>\n",
       "      <td>1701-1750</td>\n",
       "    </tr>\n",
       "    <tr>\n",
       "      <th>34939</th>\n",
       "      <td>PORTA, Giacomo della</td>\n",
       "      <td>(b. ca. 1533, Genova, d. 1602, Roma)</td>\n",
       "      <td>Atlas Fountain (detail)</td>\n",
       "      <td>1602</td>\n",
       "      <td>Stone and bronze</td>\n",
       "      <td>Villa Aldobrandini, Frascati</td>\n",
       "      <td>https://www.wga.hu/html/p/porta_g/zatlasfo.html</td>\n",
       "      <td>sculpture</td>\n",
       "      <td>other</td>\n",
       "      <td>Italian</td>\n",
       "      <td>1551-1600</td>\n",
       "    </tr>\n",
       "    <tr>\n",
       "      <th>3690</th>\n",
       "      <td>BANTI, Cristiano</td>\n",
       "      <td>(b. 1824, Santa Croce sull'Arno, d. 1904, Mont...</td>\n",
       "      <td>Three Peasant Women</td>\n",
       "      <td>1881</td>\n",
       "      <td>Oil on canvas, 73 x 34 cm</td>\n",
       "      <td>Galleria Palatina (Palazzo Pitti), Florence</td>\n",
       "      <td>https://www.wga.hu/html/b/banti/3women.html</td>\n",
       "      <td>painting</td>\n",
       "      <td>genre</td>\n",
       "      <td>Italian</td>\n",
       "      <td>1851-1900</td>\n",
       "    </tr>\n",
       "    <tr>\n",
       "      <th>40028</th>\n",
       "      <td>SCOREL, Jan van</td>\n",
       "      <td>(b. 1495, Schoorl, d. 1562, Utrecht)</td>\n",
       "      <td>View of Bethlehem</td>\n",
       "      <td>1520-21</td>\n",
       "      <td>Pen and brown ink, 173 x 298 mm</td>\n",
       "      <td>British Museum, London</td>\n",
       "      <td>https://www.wga.hu/html/s/scorel/z_view.html</td>\n",
       "      <td>graphics</td>\n",
       "      <td>religious</td>\n",
       "      <td>Dutch</td>\n",
       "      <td>1501-1550</td>\n",
       "    </tr>\n",
       "  </tbody>\n",
       "</table>\n",
       "</div>"
      ],
      "text/plain": [
       "                       AUTHOR  \\\n",
       "26186        MANTEGNA, Andrea   \n",
       "22171  ISRAELS, Isaac Lazarus   \n",
       "41141        SPINELLO ARETINO   \n",
       "33073           PARLER, Peter   \n",
       "40315        SIGNORELLI, Luca   \n",
       "34471          PISANO, Nicola   \n",
       "6880         BRIATI, Giuseppe   \n",
       "34939    PORTA, Giacomo della   \n",
       "3690         BANTI, Cristiano   \n",
       "40028         SCOREL, Jan van   \n",
       "\n",
       "                                               BORN-DIED  \\\n",
       "26186      (b. 1431, Isola di Carturo, d. 1506, Mantova)   \n",
       "22171            (b. 1865, Amsterdam, d. 1934, Den Haag)   \n",
       "41141             (b. ca. 1345, Arezzo, d. 1410, Arezzo)   \n",
       "33073       (b. 1330, Schwabisch-Gmünd, d. 1399, Prague)   \n",
       "40315           (b. ca. 1450, Cortona, d. 1523, Cortona)   \n",
       "34471                                 (active 1258-1278)   \n",
       "6880                  (b. 1686, Murano, d. 1772, Murano)   \n",
       "34939               (b. ca. 1533, Genova, d. 1602, Roma)   \n",
       "3690   (b. 1824, Santa Croce sull'Arno, d. 1904, Mont...   \n",
       "40028               (b. 1495, Schoorl, d. 1562, Utrecht)   \n",
       "\n",
       "                                                   TITLE       DATE  \\\n",
       "26186                 The Adoration of the Magi (detail)    1460-64   \n",
       "22171                                  In the Dance Hall       1893   \n",
       "41141  Four Evangelists with their Symbols (vault fre...       1388   \n",
       "33073                                      Self-Portrait    1379-86   \n",
       "40315        Sermon and Deeds of the Antichrist (detail)  1499-1502   \n",
       "34471                                             Pulpit       1260   \n",
       "6880                                          Chandelier    c. 1750   \n",
       "34939                            Atlas Fountain (detail)       1602   \n",
       "3690                                 Three Peasant Women       1881   \n",
       "40028                                  View of Bethlehem    1520-21   \n",
       "\n",
       "                             TECHNIQUE  \\\n",
       "26186                  Tempera on wood   \n",
       "22171       Oil on canvas, 76 x 100 cm   \n",
       "41141                           Fresco   \n",
       "33073             Sandstone, life-size   \n",
       "40315                           Fresco   \n",
       "34471            Marble, height 465 cm   \n",
       "6880                         Glassware   \n",
       "34939                 Stone and bronze   \n",
       "3690         Oil on canvas, 73 x 34 cm   \n",
       "40028  Pen and brown ink, 173 x 298 mm   \n",
       "\n",
       "                                          LOCATION  \\\n",
       "26186              Galleria degli Uffizi, Florence   \n",
       "22171          Rijksmuseum Kröller-Müller, Otterlo   \n",
       "41141     Sacristy, San Miniato al Monte, Florence   \n",
       "33073                   St Vitus Cathedral, Prague   \n",
       "40315         Chapel of San Brizio, Duomo, Orvieto   \n",
       "34471                              Baptistry, Pisa   \n",
       "6880                         Ca' Rezzonico, Venice   \n",
       "34939                 Villa Aldobrandini, Frascati   \n",
       "3690   Galleria Palatina (Palazzo Pitti), Florence   \n",
       "40028                       British Museum, London   \n",
       "\n",
       "                                                     URL       FORM  \\\n",
       "26186  https://www.wga.hu/html/m/mantegna/05/1chapel3...   painting   \n",
       "22171  https://www.wga.hu/html/i/israels/isaac/danceh...   painting   \n",
       "41141  https://www.wga.hu/html/s/spinello/spinello/mi...   painting   \n",
       "33073     https://www.wga.hu/html/p/parler/selfporx.html  sculpture   \n",
       "40315  https://www.wga.hu/html/s/signorel/brizio/1/1a...   painting   \n",
       "34471  https://www.wga.hu/html/p/pisano/nicola/1pisa_...  sculpture   \n",
       "6880      https://www.wga.hu/html/b/briati/chandeli.html  glassware   \n",
       "34939    https://www.wga.hu/html/p/porta_g/zatlasfo.html  sculpture   \n",
       "3690         https://www.wga.hu/html/b/banti/3women.html   painting   \n",
       "40028       https://www.wga.hu/html/s/scorel/z_view.html   graphics   \n",
       "\n",
       "            TYPE   SCHOOL   TIMELINE  \n",
       "26186  religious  Italian  1451-1500  \n",
       "22171      genre    Dutch  1851-1900  \n",
       "41141  religious  Italian  1351-1400  \n",
       "33073   portrait   German  1351-1400  \n",
       "40315  religious  Italian  1451-1500  \n",
       "34471  religious  Italian  1251-1300  \n",
       "6880       other  Italian  1701-1750  \n",
       "34939      other  Italian  1551-1600  \n",
       "3690       genre  Italian  1851-1900  \n",
       "40028  religious    Dutch  1501-1550  "
      ]
     },
     "execution_count": 2,
     "metadata": {},
     "output_type": "execute_result"
    }
   ],
   "source": [
    "#Open the Catalog \n",
    "Catalog=pd.read_csv('catalog.csv',encoding='ansi')\n",
    "Catalog.sample(10,random_state=122)"
   ]
  },
  {
   "cell_type": "markdown",
   "metadata": {},
   "source": [
    "Note this database includes all kinds of arts, in 'TECHNIQUE' we can even see 'Glassware' and 'Stone and bronze'. Let's find out what techniques did Van Gogh used and then keep only those. To actually be able to train, we will only consider those techniques in which we have at least 10 samples. "
   ]
  },
  {
   "cell_type": "code",
   "execution_count": 3,
   "metadata": {
    "scrolled": true
   },
   "outputs": [
    {
     "data": {
      "text/html": [
       "<div>\n",
       "<style scoped>\n",
       "    .dataframe tbody tr th:only-of-type {\n",
       "        vertical-align: middle;\n",
       "    }\n",
       "\n",
       "    .dataframe tbody tr th {\n",
       "        vertical-align: top;\n",
       "    }\n",
       "\n",
       "    .dataframe thead th {\n",
       "        text-align: right;\n",
       "    }\n",
       "</style>\n",
       "<table border=\"1\" class=\"dataframe\">\n",
       "  <thead>\n",
       "    <tr style=\"text-align: right;\">\n",
       "      <th></th>\n",
       "      <th>TECHNIQUE</th>\n",
       "      <th>Count</th>\n",
       "    </tr>\n",
       "  </thead>\n",
       "  <tbody>\n",
       "    <tr>\n",
       "      <th>13</th>\n",
       "      <td>Oil on canvas</td>\n",
       "      <td>293</td>\n",
       "    </tr>\n",
       "    <tr>\n",
       "      <th>15</th>\n",
       "      <td>Oil on canvas on panel</td>\n",
       "      <td>18</td>\n",
       "    </tr>\n",
       "    <tr>\n",
       "      <th>28</th>\n",
       "      <td>Pencil</td>\n",
       "      <td>14</td>\n",
       "    </tr>\n",
       "    <tr>\n",
       "      <th>0</th>\n",
       "      <td>Black chalk</td>\n",
       "      <td>10</td>\n",
       "    </tr>\n",
       "    <tr>\n",
       "      <th>5</th>\n",
       "      <td>Black pencil</td>\n",
       "      <td>10</td>\n",
       "    </tr>\n",
       "    <tr>\n",
       "      <th>12</th>\n",
       "      <td>Lithograph</td>\n",
       "      <td>9</td>\n",
       "    </tr>\n",
       "  </tbody>\n",
       "</table>\n",
       "</div>"
      ],
      "text/plain": [
       "                 TECHNIQUE  Count\n",
       "13           Oil on canvas    293\n",
       "15  Oil on canvas on panel     18\n",
       "28                  Pencil     14\n",
       "0              Black chalk     10\n",
       "5             Black pencil     10\n",
       "12              Lithograph      9"
      ]
     },
     "execution_count": 3,
     "metadata": {},
     "output_type": "execute_result"
    }
   ],
   "source": [
    "#Change the 'TECHNIQUE' column to ignore the size of the painting. \n",
    "Catalog=Catalog.assign(TECHNIQUE=Catalog['TECHNIQUE'].str.split(\",\", n = 1, expand = True)[0])\n",
    "\n",
    "#Get the Techniques used by VanGogh\n",
    "Techniques_Vangogh=Catalog.loc[Catalog.AUTHOR=='GOGH, Vincent van',['TECHNIQUE']]\\\n",
    "    .groupby('TECHNIQUE').agg(Count=pd.NamedAgg('TECHNIQUE','count'))\\\n",
    "    .reset_index()\\\n",
    "    .sort_values(by='Count',ascending=False)\n",
    "Techniques_Vangogh.head(6)"
   ]
  },
  {
   "cell_type": "code",
   "execution_count": 4,
   "metadata": {
    "scrolled": true
   },
   "outputs": [
    {
     "name": "stdout",
     "output_type": "stream",
     "text": [
      "['Oil on canvas', 'Oil on canvas on panel', 'Pencil']\n"
     ]
    }
   ],
   "source": [
    "#Get only the ones he used more than 10 times. \n",
    "Techniques_Vangogh=list(Techniques_Vangogh.loc[Techniques_Vangogh.Count>10,'TECHNIQUE'])\n",
    "print(Techniques_Vangogh)"
   ]
  },
  {
   "cell_type": "markdown",
   "metadata": {},
   "source": [
    "We now format the Catalog to include only the information we care about. "
   ]
  },
  {
   "cell_type": "code",
   "execution_count": 5,
   "metadata": {
    "scrolled": true
   },
   "outputs": [],
   "source": [
    "#Only techiques used by Van Gogh\n",
    "Catalog=Catalog.loc[Catalog.TECHNIQUE.isin(Techniques_Vangogh),['AUTHOR','URL']]\n",
    "Catalog['Vangogh']=0\n",
    "Catalog.loc[Catalog.AUTHOR=='GOGH, Vincent van','Vangogh']=1\n",
    "Catalog=Catalog.reset_index()"
   ]
  },
  {
   "cell_type": "code",
   "execution_count": 6,
   "metadata": {
    "scrolled": true
   },
   "outputs": [],
   "source": [
    "#Format the Catalog\n",
    "Catalog['AUTHOR']=Catalog['AUTHOR'].astype('string')\n",
    "Catalog['URL']=Catalog['URL'].astype('string')"
   ]
  },
  {
   "cell_type": "markdown",
   "metadata": {},
   "source": [
    "Note the Catalog gives us a url for the webpage of the painting. We now need to modify it to get just the image."
   ]
  },
  {
   "cell_type": "code",
   "execution_count": 7,
   "metadata": {
    "scrolled": true
   },
   "outputs": [],
   "source": [
    "Catalog['URL']=Catalog.URL.apply(lambda x: x.replace(\"/html/\", \"/art/\").replace('.html','.jpg'))\n",
    "Catalog['URL_small']=Catalog.URL.apply(lambda x: x.replace(\"/art/\", \"/detail/\"))"
   ]
  },
  {
   "cell_type": "markdown",
   "metadata": {},
   "source": [
    "Some Functions to get the images"
   ]
  },
  {
   "cell_type": "code",
   "execution_count": 8,
   "metadata": {
    "scrolled": true
   },
   "outputs": [],
   "source": [
    "def get_image(url):\n",
    "    resp = urlopen(url)\n",
    "    image = np.asarray(bytearray(resp.read()), dtype=\"uint8\")\n",
    "    image = cv2.imdecode(image, cv2.IMREAD_COLOR)\n",
    "    return image"
   ]
  },
  {
   "cell_type": "markdown",
   "metadata": {},
   "source": [
    "We now take a subset of the Catalog, because we cant work with these many images in our laptops. We'll include all VanGogh's paintings and 1000 of others. "
   ]
  },
  {
   "cell_type": "code",
   "execution_count": 9,
   "metadata": {
    "scrolled": true
   },
   "outputs": [],
   "source": [
    "ind_vangogh=Catalog.loc[Catalog.Vangogh==1].index\n",
    "ind_others=Catalog.loc[Catalog.Vangogh==0].sample(1000).index\n",
    "ind_sample=list(ind_vangogh)+list(ind_others)\n",
    "Catalog_Sample=Catalog.iloc[ind_sample]\n",
    "del Catalog"
   ]
  },
  {
   "cell_type": "code",
   "execution_count": 10,
   "metadata": {
    "scrolled": true
   },
   "outputs": [],
   "source": [
    "#Now we'll split this set into train and test datasets\n",
    "from sklearn.model_selection import train_test_split\n",
    "Catalog_train,Catalog_test=train_test_split(Catalog_Sample,stratify=Catalog_Sample.Vangogh,test_size=0.2,random_state=43202)"
   ]
  },
  {
   "cell_type": "code",
   "execution_count": 11,
   "metadata": {
    "scrolled": true
   },
   "outputs": [],
   "source": [
    "Catalog_train=Catalog_train.reset_index()\n",
    "Catalog_test=Catalog_test.reset_index()"
   ]
  },
  {
   "cell_type": "code",
   "execution_count": 12,
   "metadata": {},
   "outputs": [
    {
     "data": {
      "text/html": [
       "<div>\n",
       "<style scoped>\n",
       "    .dataframe tbody tr th:only-of-type {\n",
       "        vertical-align: middle;\n",
       "    }\n",
       "\n",
       "    .dataframe tbody tr th {\n",
       "        vertical-align: top;\n",
       "    }\n",
       "\n",
       "    .dataframe thead th {\n",
       "        text-align: right;\n",
       "    }\n",
       "</style>\n",
       "<table border=\"1\" class=\"dataframe\">\n",
       "  <thead>\n",
       "    <tr style=\"text-align: right;\">\n",
       "      <th></th>\n",
       "      <th>AUTHOR</th>\n",
       "      <th>URL</th>\n",
       "      <th>Vangogh</th>\n",
       "      <th>URL_small</th>\n",
       "    </tr>\n",
       "  </thead>\n",
       "  <tbody>\n",
       "    <tr>\n",
       "      <th>0</th>\n",
       "      <td>GOGH, Vincent van</td>\n",
       "      <td>https://www.wga.hu/art/g/gogh_van/13/copies01.jpg</td>\n",
       "      <td>1</td>\n",
       "      <td>https://www.wga.hu/detail/g/gogh_van/13/copies...</td>\n",
       "    </tr>\n",
       "    <tr>\n",
       "      <th>1</th>\n",
       "      <td>RUBENS, Peter Paul</td>\n",
       "      <td>https://www.wga.hu/art/r/rubens/22mythol/281my...</td>\n",
       "      <td>0</td>\n",
       "      <td>https://www.wga.hu/detail/r/rubens/22mythol/28...</td>\n",
       "    </tr>\n",
       "    <tr>\n",
       "      <th>2</th>\n",
       "      <td>GOGH, Vincent van</td>\n",
       "      <td>https://www.wga.hu/art/g/gogh_van/18/2arles10.jpg</td>\n",
       "      <td>1</td>\n",
       "      <td>https://www.wga.hu/detail/g/gogh_van/18/2arles...</td>\n",
       "    </tr>\n",
       "    <tr>\n",
       "      <th>3</th>\n",
       "      <td>GOGH, Vincent van</td>\n",
       "      <td>https://www.wga.hu/art/g/gogh_van/03/nuenen40.jpg</td>\n",
       "      <td>1</td>\n",
       "      <td>https://www.wga.hu/detail/g/gogh_van/03/nuenen...</td>\n",
       "    </tr>\n",
       "    <tr>\n",
       "      <th>4</th>\n",
       "      <td>VERMEER, Johannes</td>\n",
       "      <td>https://www.wga.hu/art/v/vermeer/03c/25artpa5.jpg</td>\n",
       "      <td>0</td>\n",
       "      <td>https://www.wga.hu/detail/v/vermeer/03c/25artp...</td>\n",
       "    </tr>\n",
       "  </tbody>\n",
       "</table>\n",
       "</div>"
      ],
      "text/plain": [
       "               AUTHOR                                                URL  \\\n",
       "0   GOGH, Vincent van  https://www.wga.hu/art/g/gogh_van/13/copies01.jpg   \n",
       "1  RUBENS, Peter Paul  https://www.wga.hu/art/r/rubens/22mythol/281my...   \n",
       "2   GOGH, Vincent van  https://www.wga.hu/art/g/gogh_van/18/2arles10.jpg   \n",
       "3   GOGH, Vincent van  https://www.wga.hu/art/g/gogh_van/03/nuenen40.jpg   \n",
       "4   VERMEER, Johannes  https://www.wga.hu/art/v/vermeer/03c/25artpa5.jpg   \n",
       "\n",
       "   Vangogh                                          URL_small  \n",
       "0        1  https://www.wga.hu/detail/g/gogh_van/13/copies...  \n",
       "1        0  https://www.wga.hu/detail/r/rubens/22mythol/28...  \n",
       "2        1  https://www.wga.hu/detail/g/gogh_van/18/2arles...  \n",
       "3        1  https://www.wga.hu/detail/g/gogh_van/03/nuenen...  \n",
       "4        0  https://www.wga.hu/detail/v/vermeer/03c/25artp...  "
      ]
     },
     "execution_count": 12,
     "metadata": {},
     "output_type": "execute_result"
    }
   ],
   "source": [
    "Catalog_train=Catalog_train[['AUTHOR','URL','Vangogh','URL_small']]\n",
    "Catalog_test=Catalog_test[['AUTHOR','URL','Vangogh','URL_small']]\n",
    "Catalog_train.head()"
   ]
  },
  {
   "cell_type": "code",
   "execution_count": 13,
   "metadata": {
    "scrolled": true
   },
   "outputs": [],
   "source": [
    "Catalog_test['Image']=0\n",
    "Catalog_test.Image=Catalog_test.Image.astype('object')\n",
    "N=Catalog_test.shape[0]\n",
    "All_Images=[]\n",
    "for i in range(N):\n",
    "    image=get_image(Catalog_test.URL_small[i])\n",
    "    All_Images.append(image)\n",
    "Catalog_test.loc[0:(N-1),'Image']=All_Images\n",
    "Catalog_test.to_pickle('Catalog_test.pkl',protocol=3)"
   ]
  },
  {
   "cell_type": "code",
   "execution_count": 14,
   "metadata": {
    "scrolled": true
   },
   "outputs": [],
   "source": [
    "Catalog_train['Image']=0\n",
    "Catalog_train.Image=Catalog_train.Image.astype('object')\n",
    "N=Catalog_train.shape[0]\n",
    "All_Images=[]\n",
    "for i in range(N):\n",
    "    image=get_image(Catalog_train.URL_small[i])\n",
    "    All_Images.append(image)\n",
    "Catalog_train.loc[0:(N-1),'Image']=All_Images\n",
    "Catalog_train.to_pickle('Catalog_train.pkl',protocol=3)"
   ]
  },
  {
   "cell_type": "code",
   "execution_count": null,
   "metadata": {
    "scrolled": true
   },
   "outputs": [],
   "source": [
    "c"
   ]
  },
  {
   "cell_type": "code",
   "execution_count": null,
   "metadata": {
    "scrolled": false
   },
   "outputs": [],
   "source": []
  },
  {
   "cell_type": "code",
   "execution_count": null,
   "metadata": {
    "scrolled": true
   },
   "outputs": [],
   "source": []
  },
  {
   "cell_type": "code",
   "execution_count": null,
   "metadata": {
    "scrolled": true
   },
   "outputs": [],
   "source": []
  },
  {
   "cell_type": "code",
   "execution_count": null,
   "metadata": {
    "scrolled": true
   },
   "outputs": [],
   "source": []
  }
 ],
 "metadata": {
  "kernelspec": {
   "display_name": "Python 3",
   "language": "python",
   "name": "python3"
  },
  "language_info": {
   "codemirror_mode": {
    "name": "ipython",
    "version": 3
   },
   "file_extension": ".py",
   "mimetype": "text/x-python",
   "name": "python",
   "nbconvert_exporter": "python",
   "pygments_lexer": "ipython3",
   "version": "3.6.10"
  }
 },
 "nbformat": 4,
 "nbformat_minor": 4
}
