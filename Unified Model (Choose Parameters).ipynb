{
 "cells": [
  {
   "cell_type": "code",
   "execution_count": 1,
   "metadata": {
    "scrolled": true
   },
   "outputs": [],
   "source": [
    "#Import all the packages\n",
    "import cv2\n",
    "import numpy as np\n",
    "import matplotlib.pyplot as plt\n",
    "from urllib.request import urlopen\n",
    "from scipy import ndimage\n",
    "from ripser import ripser, lower_star_img\n",
    "from persim import plot_diagrams \n",
    "import pandas as pd\n",
    "import seaborn as sns\n",
    "from sklearn.model_selection import train_test_split\n",
    "from sklearn.tree import DecisionTreeClassifier, plot_tree\n",
    "from sklearn.preprocessing import StandardScaler, MinMaxScaler\n",
    "from sklearn import tree\n",
    "from sklearn.metrics import confusion_matrix\n",
    "from matplotlib.patches import Rectangle\n",
    "from joblib import dump, load\n",
    "from sklearn.neighbors import KNeighborsClassifier\n",
    "from sklearn.neural_network import MLPClassifier"
   ]
  },
  {
   "cell_type": "code",
   "execution_count": 2,
   "metadata": {
    "scrolled": true
   },
   "outputs": [],
   "source": [
    "#Some Common Functions to see the results\n",
    "\n",
    "def print_results(X,y,model,type_data='test'):\n",
    "    y_pred=model.predict(X)\n",
    "    M=confusion_matrix(y,y_pred,normalize='all')\n",
    "    M=pd.DataFrame(M,index=['True Other','True Van Gogh'],columns=['Pred. Other','Pred. Van Gog'])\n",
    "    display(M.style.format('{:.2%}'))    \n",
    "    print(('Score on '+type_data+' data: {:.2%}').format(model.score(X,y)))\n",
    "    M2=confusion_matrix(y,y_pred,normalize='pred')\n",
    "    print(('P[True Van|Pred Van]= {:.2%}').format(M2[1,1]))"
   ]
  },
  {
   "cell_type": "code",
   "execution_count": 3,
   "metadata": {
    "scrolled": true
   },
   "outputs": [],
   "source": [
    "Catalog0=pd.read_pickle('Catalogs/Catalog_train_w_strokes_and_channels_and_faces_and_hists.pkl')\n",
    "Catalog_train,Catalog_test,y_train,y_test=train_test_split(Catalog0,Catalog0.Vangogh,test_size=0.2,stratify=Catalog0.Vangogh)\n",
    "Catalog_train=Catalog_train.reset_index(drop=True)\n",
    "Catalog_test=Catalog_test.reset_index(drop=True)"
   ]
  },
  {
   "cell_type": "code",
   "execution_count": 4,
   "metadata": {
    "scrolled": true
   },
   "outputs": [
    {
     "data": {
      "text/html": [
       "<style  type=\"text/css\" >\n",
       "</style><table id=\"T_9022e2d4_a2b8_11ea_953a_68071524a35a\" ><thead>    <tr>        <th class=\"blank level0\" ></th>        <th class=\"col_heading level0 col0\" >Pred. Other</th>        <th class=\"col_heading level0 col1\" >Pred. Van Gog</th>    </tr></thead><tbody>\n",
       "                <tr>\n",
       "                        <th id=\"T_9022e2d4_a2b8_11ea_953a_68071524a35alevel0_row0\" class=\"row_heading level0 row0\" >True Other</th>\n",
       "                        <td id=\"T_9022e2d4_a2b8_11ea_953a_68071524a35arow0_col0\" class=\"data row0 col0\" >73.47%</td>\n",
       "                        <td id=\"T_9022e2d4_a2b8_11ea_953a_68071524a35arow0_col1\" class=\"data row0 col1\" >2.00%</td>\n",
       "            </tr>\n",
       "            <tr>\n",
       "                        <th id=\"T_9022e2d4_a2b8_11ea_953a_68071524a35alevel0_row1\" class=\"row_heading level0 row1\" >True Van Gogh</th>\n",
       "                        <td id=\"T_9022e2d4_a2b8_11ea_953a_68071524a35arow1_col0\" class=\"data row1 col0\" >6.60%</td>\n",
       "                        <td id=\"T_9022e2d4_a2b8_11ea_953a_68071524a35arow1_col1\" class=\"data row1 col1\" >17.92%</td>\n",
       "            </tr>\n",
       "    </tbody></table>"
      ],
      "text/plain": [
       "<pandas.io.formats.style.Styler at 0x15315135710>"
      ]
     },
     "metadata": {},
     "output_type": "display_data"
    },
    {
     "name": "stdout",
     "output_type": "stream",
     "text": [
      "Score on train data: 91.39%\n",
      "P[True Van|Pred Van]= 89.94%\n"
     ]
    },
    {
     "data": {
      "text/html": [
       "<style  type=\"text/css\" >\n",
       "</style><table id=\"T_90424a6c_a2b8_11ea_81b5_68071524a35a\" ><thead>    <tr>        <th class=\"blank level0\" ></th>        <th class=\"col_heading level0 col0\" >Pred. Other</th>        <th class=\"col_heading level0 col1\" >Pred. Van Gog</th>    </tr></thead><tbody>\n",
       "                <tr>\n",
       "                        <th id=\"T_90424a6c_a2b8_11ea_81b5_68071524a35alevel0_row0\" class=\"row_heading level0 row0\" >True Other</th>\n",
       "                        <td id=\"T_90424a6c_a2b8_11ea_81b5_68071524a35arow0_col0\" class=\"data row0 col0\" >65.57%</td>\n",
       "                        <td id=\"T_90424a6c_a2b8_11ea_81b5_68071524a35arow0_col1\" class=\"data row0 col1\" >9.91%</td>\n",
       "            </tr>\n",
       "            <tr>\n",
       "                        <th id=\"T_90424a6c_a2b8_11ea_81b5_68071524a35alevel0_row1\" class=\"row_heading level0 row1\" >True Van Gogh</th>\n",
       "                        <td id=\"T_90424a6c_a2b8_11ea_81b5_68071524a35arow1_col0\" class=\"data row1 col0\" >14.15%</td>\n",
       "                        <td id=\"T_90424a6c_a2b8_11ea_81b5_68071524a35arow1_col1\" class=\"data row1 col1\" >10.38%</td>\n",
       "            </tr>\n",
       "    </tbody></table>"
      ],
      "text/plain": [
       "<pandas.io.formats.style.Styler at 0x153148fc898>"
      ]
     },
     "metadata": {},
     "output_type": "display_data"
    },
    {
     "name": "stdout",
     "output_type": "stream",
     "text": [
      "Score on test data: 75.94%\n",
      "P[True Van|Pred Van]= 51.16%\n"
     ]
    }
   ],
   "source": [
    "#MLP On the Whole image\n",
    "#Here we play with the parameters trying to avoid overfitting\n",
    "mlp2=MLPClassifier(hidden_layer_sizes=(50,100,50),max_iter=500)\n",
    "\n",
    "X_train=np.concatenate([np.array(list(Catalog_train['Normalized_Image_B'])),\n",
    "                        np.array(list(Catalog_train['Normalized_Image_G'])),\n",
    "                        np.array(list(Catalog_train['Normalized_Image_R']))],axis=1)\n",
    "\n",
    "X_test=np.concatenate([np.array(list(Catalog_test['Normalized_Image_B'])),\n",
    "                        np.array(list(Catalog_test['Normalized_Image_G'])),\n",
    "                        np.array(list(Catalog_test['Normalized_Image_R']))],axis=1)\n",
    "\n",
    "mlp2.fit(X_train,y_train)\n",
    "print_results(X_train,y_train,mlp2,'train')\n",
    "print_results(X_test,y_test,mlp2)"
   ]
  },
  {
   "cell_type": "code",
   "execution_count": 5,
   "metadata": {
    "scrolled": true
   },
   "outputs": [],
   "source": [
    "Catalog_train['Pred_Whole']=mlp2.predict_proba(X_train)[:,1]\n",
    "Catalog_test['Pred_Whole']=mlp2.predict_proba(X_test)[:,1]"
   ]
  },
  {
   "cell_type": "code",
   "execution_count": 6,
   "metadata": {
    "scrolled": true
   },
   "outputs": [
    {
     "data": {
      "text/html": [
       "<style  type=\"text/css\" >\n",
       "</style><table id=\"T_92536452_a2b8_11ea_8a3a_68071524a35a\" ><thead>    <tr>        <th class=\"blank level0\" ></th>        <th class=\"col_heading level0 col0\" >Pred. Other</th>        <th class=\"col_heading level0 col1\" >Pred. Van Gog</th>    </tr></thead><tbody>\n",
       "                <tr>\n",
       "                        <th id=\"T_92536452_a2b8_11ea_8a3a_68071524a35alevel0_row0\" class=\"row_heading level0 row0\" >True Other</th>\n",
       "                        <td id=\"T_92536452_a2b8_11ea_8a3a_68071524a35arow0_col0\" class=\"data row0 col0\" >76.59%</td>\n",
       "                        <td id=\"T_92536452_a2b8_11ea_8a3a_68071524a35arow0_col1\" class=\"data row0 col1\" >2.95%</td>\n",
       "            </tr>\n",
       "            <tr>\n",
       "                        <th id=\"T_92536452_a2b8_11ea_8a3a_68071524a35alevel0_row1\" class=\"row_heading level0 row1\" >True Van Gogh</th>\n",
       "                        <td id=\"T_92536452_a2b8_11ea_8a3a_68071524a35arow1_col0\" class=\"data row1 col0\" >18.41%</td>\n",
       "                        <td id=\"T_92536452_a2b8_11ea_8a3a_68071524a35arow1_col1\" class=\"data row1 col1\" >2.05%</td>\n",
       "            </tr>\n",
       "    </tbody></table>"
      ],
      "text/plain": [
       "<pandas.io.formats.style.Styler at 0x15331d89470>"
      ]
     },
     "metadata": {},
     "output_type": "display_data"
    },
    {
     "name": "stdout",
     "output_type": "stream",
     "text": [
      "Score on train data: 78.64%\n",
      "P[True Van|Pred Van]= 40.91%\n"
     ]
    },
    {
     "data": {
      "text/html": [
       "<style  type=\"text/css\" >\n",
       "</style><table id=\"T_925cbfbe_a2b8_11ea_8a50_68071524a35a\" ><thead>    <tr>        <th class=\"blank level0\" ></th>        <th class=\"col_heading level0 col0\" >Pred. Other</th>        <th class=\"col_heading level0 col1\" >Pred. Van Gog</th>    </tr></thead><tbody>\n",
       "                <tr>\n",
       "                        <th id=\"T_925cbfbe_a2b8_11ea_8a50_68071524a35alevel0_row0\" class=\"row_heading level0 row0\" >True Other</th>\n",
       "                        <td id=\"T_925cbfbe_a2b8_11ea_8a50_68071524a35arow0_col0\" class=\"data row0 col0\" >76.00%</td>\n",
       "                        <td id=\"T_925cbfbe_a2b8_11ea_8a50_68071524a35arow0_col1\" class=\"data row0 col1\" >2.40%</td>\n",
       "            </tr>\n",
       "            <tr>\n",
       "                        <th id=\"T_925cbfbe_a2b8_11ea_8a50_68071524a35alevel0_row1\" class=\"row_heading level0 row1\" >True Van Gogh</th>\n",
       "                        <td id=\"T_925cbfbe_a2b8_11ea_8a50_68071524a35arow1_col0\" class=\"data row1 col0\" >20.80%</td>\n",
       "                        <td id=\"T_925cbfbe_a2b8_11ea_8a50_68071524a35arow1_col1\" class=\"data row1 col1\" >0.80%</td>\n",
       "            </tr>\n",
       "    </tbody></table>"
      ],
      "text/plain": [
       "<pandas.io.formats.style.Styler at 0x15331d89358>"
      ]
     },
     "metadata": {},
     "output_type": "display_data"
    },
    {
     "name": "stdout",
     "output_type": "stream",
     "text": [
      "Score on test data: 76.80%\n",
      "P[True Van|Pred Van]= 25.00%\n"
     ]
    }
   ],
   "source": [
    "#Machine Learning on faces\n",
    "mlp3=MLPClassifier(hidden_layer_sizes=(50,100,50),max_iter=500)\n",
    "\n",
    "X_train=np.array(Catalog_train.loc[Catalog_train.Face_Patch.notnull(),'Face_Patch'].tolist())\n",
    "y_train_sub=Catalog_train.loc[Catalog_train.Face_Patch.notnull(),'Vangogh']\n",
    "\n",
    "X_test=np.array(Catalog_test.loc[Catalog_test.Face_Patch.notnull(),'Face_Patch'].tolist())\n",
    "y_test_sub=Catalog_test.loc[Catalog_test.Face_Patch.notnull(),'Vangogh']\n",
    "\n",
    "\n",
    "mlp3.fit(X_train,y_train_sub)\n",
    "print_results(X_train,y_train_sub,mlp3,'train')\n",
    "print_results(X_test,y_test_sub,mlp3)"
   ]
  },
  {
   "cell_type": "code",
   "execution_count": 7,
   "metadata": {
    "scrolled": true
   },
   "outputs": [],
   "source": [
    "Catalog_train['Pred_Face']=5\n",
    "Catalog_test['Pred_Face']=5\n",
    "Catalog_train.loc[Catalog_train.Face_Patch.notnull(),'Pred_Face']=mlp3.predict_proba(X_train)[:,1]\n",
    "Catalog_test.loc[Catalog_test.Face_Patch.notnull(),'Pred_Face']=mlp3.predict_proba(X_test)[:,1]"
   ]
  },
  {
   "cell_type": "code",
   "execution_count": 8,
   "metadata": {
    "scrolled": true
   },
   "outputs": [
    {
     "data": {
      "text/html": [
       "<style  type=\"text/css\" >\n",
       "</style><table id=\"T_b7cdeba4_a2b8_11ea_bdc6_68071524a35a\" ><thead>    <tr>        <th class=\"blank level0\" ></th>        <th class=\"col_heading level0 col0\" >Pred. Other</th>        <th class=\"col_heading level0 col1\" >Pred. Van Gog</th>    </tr></thead><tbody>\n",
       "                <tr>\n",
       "                        <th id=\"T_b7cdeba4_a2b8_11ea_bdc6_68071524a35alevel0_row0\" class=\"row_heading level0 row0\" >True Other</th>\n",
       "                        <td id=\"T_b7cdeba4_a2b8_11ea_bdc6_68071524a35arow0_col0\" class=\"data row0 col0\" >77.05%</td>\n",
       "                        <td id=\"T_b7cdeba4_a2b8_11ea_bdc6_68071524a35arow0_col1\" class=\"data row0 col1\" >2.50%</td>\n",
       "            </tr>\n",
       "            <tr>\n",
       "                        <th id=\"T_b7cdeba4_a2b8_11ea_bdc6_68071524a35alevel0_row1\" class=\"row_heading level0 row1\" >True Van Gogh</th>\n",
       "                        <td id=\"T_b7cdeba4_a2b8_11ea_bdc6_68071524a35arow1_col0\" class=\"data row1 col0\" >11.59%</td>\n",
       "                        <td id=\"T_b7cdeba4_a2b8_11ea_bdc6_68071524a35arow1_col1\" class=\"data row1 col1\" >8.86%</td>\n",
       "            </tr>\n",
       "    </tbody></table>"
      ],
      "text/plain": [
       "<pandas.io.formats.style.Styler at 0x15331d940f0>"
      ]
     },
     "metadata": {},
     "output_type": "display_data"
    },
    {
     "name": "stdout",
     "output_type": "stream",
     "text": [
      "Score on train data: 85.91%\n",
      "P[True Van|Pred Van]= 78.00%\n"
     ]
    },
    {
     "data": {
      "text/html": [
       "<style  type=\"text/css\" >\n",
       "</style><table id=\"T_ee03d6c6_a2b8_11ea_9d5c_68071524a35a\" ><thead>    <tr>        <th class=\"blank level0\" ></th>        <th class=\"col_heading level0 col0\" >Pred. Other</th>        <th class=\"col_heading level0 col1\" >Pred. Van Gog</th>    </tr></thead><tbody>\n",
       "                <tr>\n",
       "                        <th id=\"T_ee03d6c6_a2b8_11ea_9d5c_68071524a35alevel0_row0\" class=\"row_heading level0 row0\" >True Other</th>\n",
       "                        <td id=\"T_ee03d6c6_a2b8_11ea_9d5c_68071524a35arow0_col0\" class=\"data row0 col0\" >72.00%</td>\n",
       "                        <td id=\"T_ee03d6c6_a2b8_11ea_9d5c_68071524a35arow0_col1\" class=\"data row0 col1\" >6.40%</td>\n",
       "            </tr>\n",
       "            <tr>\n",
       "                        <th id=\"T_ee03d6c6_a2b8_11ea_9d5c_68071524a35alevel0_row1\" class=\"row_heading level0 row1\" >True Van Gogh</th>\n",
       "                        <td id=\"T_ee03d6c6_a2b8_11ea_9d5c_68071524a35arow1_col0\" class=\"data row1 col0\" >16.00%</td>\n",
       "                        <td id=\"T_ee03d6c6_a2b8_11ea_9d5c_68071524a35arow1_col1\" class=\"data row1 col1\" >5.60%</td>\n",
       "            </tr>\n",
       "    </tbody></table>"
      ],
      "text/plain": [
       "<pandas.io.formats.style.Styler at 0x15331d945c0>"
      ]
     },
     "metadata": {},
     "output_type": "display_data"
    },
    {
     "name": "stdout",
     "output_type": "stream",
     "text": [
      "Score on test data: 77.60%\n",
      "P[True Van|Pred Van]= 46.67%\n"
     ]
    }
   ],
   "source": [
    "#KNN On Face Histograms\n",
    "# Function to calculate Chi-distace \n",
    "def chi2_distance(A, B): \n",
    "    A=np.array(A)\n",
    "    B=np.array(B)\n",
    "    # compute the chi-squared distance\n",
    "    chi=0\n",
    "    for (a, b) in zip(A, B):\n",
    "        if a != b:     \n",
    "            chi=chi+((a - b) ** 2) / (a + b)\n",
    "    chi=0.5*chi \n",
    "    return chi\n",
    "\n",
    "X_train=np.array([x.ravel() for x in Catalog_train.loc[Catalog_train.Face_Patch.notnull(),'Hist_Face']])\n",
    "y_train_sub=Catalog_train.loc[Catalog_train.Face_Patch.notnull(),'Vangogh']\n",
    "\n",
    "X_test=np.array([x.ravel() for x in Catalog_test.loc[Catalog_test.Face_Patch.notnull(),'Hist_Face']])\n",
    "y_test_sub=Catalog_test.loc[Catalog_test.Face_Patch.notnull(),'Vangogh']\n",
    "\n",
    "knn=KNeighborsClassifier(n_neighbors=3, algorithm='ball_tree', metric = chi2_distance)\n",
    "\n",
    "knn.fit(X_train,y_train_sub)\n",
    "print_results(X_train,y_train_sub,knn,'train')\n",
    "print_results(X_test,y_test_sub,knn)"
   ]
  },
  {
   "cell_type": "code",
   "execution_count": 9,
   "metadata": {
    "scrolled": true
   },
   "outputs": [],
   "source": [
    "Catalog_train['Pred_Face_Hist']=-1\n",
    "Catalog_test['Pred_Face_Hist']=-1\n",
    "Catalog_train.loc[Catalog_train.Face_Patch.notnull(),'Pred_Face_Hist']=knn.predict(X_train)\n",
    "Catalog_test.loc[Catalog_test.Face_Patch.notnull(),'Pred_Face_Hist']=knn.predict(X_test)"
   ]
  },
  {
   "cell_type": "code",
   "execution_count": 10,
   "metadata": {
    "scrolled": true
   },
   "outputs": [
    {
     "data": {
      "text/html": [
       "<style  type=\"text/css\" >\n",
       "</style><table id=\"T_a68a8980_a2b9_11ea_80c3_68071524a35a\" ><thead>    <tr>        <th class=\"blank level0\" ></th>        <th class=\"col_heading level0 col0\" >Pred. Other</th>        <th class=\"col_heading level0 col1\" >Pred. Van Gog</th>    </tr></thead><tbody>\n",
       "                <tr>\n",
       "                        <th id=\"T_a68a8980_a2b9_11ea_80c3_68071524a35alevel0_row0\" class=\"row_heading level0 row0\" >True Other</th>\n",
       "                        <td id=\"T_a68a8980_a2b9_11ea_80c3_68071524a35arow0_col0\" class=\"data row0 col0\" >71.34%</td>\n",
       "                        <td id=\"T_a68a8980_a2b9_11ea_80c3_68071524a35arow0_col1\" class=\"data row0 col1\" >4.13%</td>\n",
       "            </tr>\n",
       "            <tr>\n",
       "                        <th id=\"T_a68a8980_a2b9_11ea_80c3_68071524a35alevel0_row1\" class=\"row_heading level0 row1\" >True Van Gogh</th>\n",
       "                        <td id=\"T_a68a8980_a2b9_11ea_80c3_68071524a35arow1_col0\" class=\"data row1 col0\" >8.61%</td>\n",
       "                        <td id=\"T_a68a8980_a2b9_11ea_80c3_68071524a35arow1_col1\" class=\"data row1 col1\" >15.92%</td>\n",
       "            </tr>\n",
       "    </tbody></table>"
      ],
      "text/plain": [
       "<pandas.io.formats.style.Styler at 0x15331d89748>"
      ]
     },
     "metadata": {},
     "output_type": "display_data"
    },
    {
     "name": "stdout",
     "output_type": "stream",
     "text": [
      "Score on train data: 87.26%\n",
      "P[True Van|Pred Van]= 79.41%\n"
     ]
    },
    {
     "data": {
      "text/html": [
       "<style  type=\"text/css\" >\n",
       "</style><table id=\"T_3e2276b4_a2ba_11ea_b8da_68071524a35a\" ><thead>    <tr>        <th class=\"blank level0\" ></th>        <th class=\"col_heading level0 col0\" >Pred. Other</th>        <th class=\"col_heading level0 col1\" >Pred. Van Gog</th>    </tr></thead><tbody>\n",
       "                <tr>\n",
       "                        <th id=\"T_3e2276b4_a2ba_11ea_b8da_68071524a35alevel0_row0\" class=\"row_heading level0 row0\" >True Other</th>\n",
       "                        <td id=\"T_3e2276b4_a2ba_11ea_b8da_68071524a35arow0_col0\" class=\"data row0 col0\" >66.04%</td>\n",
       "                        <td id=\"T_3e2276b4_a2ba_11ea_b8da_68071524a35arow0_col1\" class=\"data row0 col1\" >9.43%</td>\n",
       "            </tr>\n",
       "            <tr>\n",
       "                        <th id=\"T_3e2276b4_a2ba_11ea_b8da_68071524a35alevel0_row1\" class=\"row_heading level0 row1\" >True Van Gogh</th>\n",
       "                        <td id=\"T_3e2276b4_a2ba_11ea_b8da_68071524a35arow1_col0\" class=\"data row1 col0\" >14.15%</td>\n",
       "                        <td id=\"T_3e2276b4_a2ba_11ea_b8da_68071524a35arow1_col1\" class=\"data row1 col1\" >10.38%</td>\n",
       "            </tr>\n",
       "    </tbody></table>"
      ],
      "text/plain": [
       "<pandas.io.formats.style.Styler at 0x1532ddc57b8>"
      ]
     },
     "metadata": {},
     "output_type": "display_data"
    },
    {
     "name": "stdout",
     "output_type": "stream",
     "text": [
      "Score on test data: 76.42%\n",
      "P[True Van|Pred Van]= 52.38%\n"
     ]
    }
   ],
   "source": [
    "#KNN On Histograms\n",
    "X_train=np.array(list(Catalog_train.GNHist))\n",
    "X_test=np.array(list(Catalog_test.GNHist))\n",
    "\n",
    "knn2=KNeighborsClassifier(n_neighbors=3, algorithm='ball_tree', metric = chi2_distance)\n",
    "\n",
    "knn2.fit(X_train,y_train)\n",
    "print_results(X_train,y_train,knn2,'train')\n",
    "print_results(X_test,y_test,knn2)"
   ]
  },
  {
   "cell_type": "code",
   "execution_count": 11,
   "metadata": {
    "scrolled": true
   },
   "outputs": [],
   "source": [
    "Catalog_train['Pred_Hist']=knn2.predict(X_train)\n",
    "Catalog_test['Pred_Hist']=knn2.predict(X_test)"
   ]
  },
  {
   "cell_type": "code",
   "execution_count": 12,
   "metadata": {
    "scrolled": true
   },
   "outputs": [
    {
     "data": {
      "text/html": [
       "<style  type=\"text/css\" >\n",
       "</style><table id=\"T_eeb1cd68_a2ba_11ea_a4c8_68071524a35a\" ><thead>    <tr>        <th class=\"blank level0\" ></th>        <th class=\"col_heading level0 col0\" >Pred. Other</th>        <th class=\"col_heading level0 col1\" >Pred. Van Gog</th>    </tr></thead><tbody>\n",
       "                <tr>\n",
       "                        <th id=\"T_eeb1cd68_a2ba_11ea_a4c8_68071524a35alevel0_row0\" class=\"row_heading level0 row0\" >True Other</th>\n",
       "                        <td id=\"T_eeb1cd68_a2ba_11ea_a4c8_68071524a35arow0_col0\" class=\"data row0 col0\" >72.05%</td>\n",
       "                        <td id=\"T_eeb1cd68_a2ba_11ea_a4c8_68071524a35arow0_col1\" class=\"data row0 col1\" >3.42%</td>\n",
       "            </tr>\n",
       "            <tr>\n",
       "                        <th id=\"T_eeb1cd68_a2ba_11ea_a4c8_68071524a35alevel0_row1\" class=\"row_heading level0 row1\" >True Van Gogh</th>\n",
       "                        <td id=\"T_eeb1cd68_a2ba_11ea_a4c8_68071524a35arow1_col0\" class=\"data row1 col0\" >11.67%</td>\n",
       "                        <td id=\"T_eeb1cd68_a2ba_11ea_a4c8_68071524a35arow1_col1\" class=\"data row1 col1\" >12.85%</td>\n",
       "            </tr>\n",
       "    </tbody></table>"
      ],
      "text/plain": [
       "<pandas.io.formats.style.Styler at 0x1532fe60320>"
      ]
     },
     "metadata": {},
     "output_type": "display_data"
    },
    {
     "name": "stdout",
     "output_type": "stream",
     "text": [
      "Score on train data: 84.91%\n",
      "P[True Van|Pred Van]= 78.99%\n"
     ]
    },
    {
     "data": {
      "text/html": [
       "<style  type=\"text/css\" >\n",
       "</style><table id=\"T_eeb54d5c_a2ba_11ea_81d5_68071524a35a\" ><thead>    <tr>        <th class=\"blank level0\" ></th>        <th class=\"col_heading level0 col0\" >Pred. Other</th>        <th class=\"col_heading level0 col1\" >Pred. Van Gog</th>    </tr></thead><tbody>\n",
       "                <tr>\n",
       "                        <th id=\"T_eeb54d5c_a2ba_11ea_81d5_68071524a35alevel0_row0\" class=\"row_heading level0 row0\" >True Other</th>\n",
       "                        <td id=\"T_eeb54d5c_a2ba_11ea_81d5_68071524a35arow0_col0\" class=\"data row0 col0\" >70.75%</td>\n",
       "                        <td id=\"T_eeb54d5c_a2ba_11ea_81d5_68071524a35arow0_col1\" class=\"data row0 col1\" >4.72%</td>\n",
       "            </tr>\n",
       "            <tr>\n",
       "                        <th id=\"T_eeb54d5c_a2ba_11ea_81d5_68071524a35alevel0_row1\" class=\"row_heading level0 row1\" >True Van Gogh</th>\n",
       "                        <td id=\"T_eeb54d5c_a2ba_11ea_81d5_68071524a35arow1_col0\" class=\"data row1 col0\" >15.57%</td>\n",
       "                        <td id=\"T_eeb54d5c_a2ba_11ea_81d5_68071524a35arow1_col1\" class=\"data row1 col1\" >8.96%</td>\n",
       "            </tr>\n",
       "    </tbody></table>"
      ],
      "text/plain": [
       "<pandas.io.formats.style.Styler at 0x1532fe607f0>"
      ]
     },
     "metadata": {},
     "output_type": "display_data"
    },
    {
     "name": "stdout",
     "output_type": "stream",
     "text": [
      "Score on test data: 79.72%\n",
      "P[True Van|Pred Van]= 65.52%\n"
     ]
    }
   ],
   "source": [
    "#Decision Tree for Mean_Strokes\n",
    "\n",
    "X_train=Catalog_train[['Mean_Strokes']]\n",
    "X_test=Catalog_test[['Mean_Strokes']]\n",
    "\n",
    "tree_cl=DecisionTreeClassifier(max_depth=2)\n",
    "\n",
    "tree_cl.fit(X_train,y_train)\n",
    "print_results(X_train,y_train,tree_cl,'train')\n",
    "print_results(X_test,y_test,tree_cl)"
   ]
  },
  {
   "cell_type": "code",
   "execution_count": 13,
   "metadata": {
    "scrolled": true
   },
   "outputs": [
    {
     "data": {
      "text/html": [
       "<style  type=\"text/css\" >\n",
       "</style><table id=\"T_eed30776_a2ba_11ea_af24_68071524a35a\" ><thead>    <tr>        <th class=\"blank level0\" ></th>        <th class=\"col_heading level0 col0\" >Pred. Other</th>        <th class=\"col_heading level0 col1\" >Pred. Van Gog</th>    </tr></thead><tbody>\n",
       "                <tr>\n",
       "                        <th id=\"T_eed30776_a2ba_11ea_af24_68071524a35alevel0_row0\" class=\"row_heading level0 row0\" >True Other</th>\n",
       "                        <td id=\"T_eed30776_a2ba_11ea_af24_68071524a35arow0_col0\" class=\"data row0 col0\" >75.47%</td>\n",
       "                        <td id=\"T_eed30776_a2ba_11ea_af24_68071524a35arow0_col1\" class=\"data row0 col1\" >0.00%</td>\n",
       "            </tr>\n",
       "            <tr>\n",
       "                        <th id=\"T_eed30776_a2ba_11ea_af24_68071524a35alevel0_row1\" class=\"row_heading level0 row1\" >True Van Gogh</th>\n",
       "                        <td id=\"T_eed30776_a2ba_11ea_af24_68071524a35arow1_col0\" class=\"data row1 col0\" >24.53%</td>\n",
       "                        <td id=\"T_eed30776_a2ba_11ea_af24_68071524a35arow1_col1\" class=\"data row1 col1\" >0.00%</td>\n",
       "            </tr>\n",
       "    </tbody></table>"
      ],
      "text/plain": [
       "<pandas.io.formats.style.Styler at 0x15309edf2e8>"
      ]
     },
     "metadata": {},
     "output_type": "display_data"
    },
    {
     "name": "stdout",
     "output_type": "stream",
     "text": [
      "Score on train data: 75.47%\n",
      "P[True Van|Pred Van]= 0.00%\n"
     ]
    },
    {
     "data": {
      "text/html": [
       "<style  type=\"text/css\" >\n",
       "</style><table id=\"T_eed54fc0_a2ba_11ea_bc45_68071524a35a\" ><thead>    <tr>        <th class=\"blank level0\" ></th>        <th class=\"col_heading level0 col0\" >Pred. Other</th>        <th class=\"col_heading level0 col1\" >Pred. Van Gog</th>    </tr></thead><tbody>\n",
       "                <tr>\n",
       "                        <th id=\"T_eed54fc0_a2ba_11ea_bc45_68071524a35alevel0_row0\" class=\"row_heading level0 row0\" >True Other</th>\n",
       "                        <td id=\"T_eed54fc0_a2ba_11ea_bc45_68071524a35arow0_col0\" class=\"data row0 col0\" >75.47%</td>\n",
       "                        <td id=\"T_eed54fc0_a2ba_11ea_bc45_68071524a35arow0_col1\" class=\"data row0 col1\" >0.00%</td>\n",
       "            </tr>\n",
       "            <tr>\n",
       "                        <th id=\"T_eed54fc0_a2ba_11ea_bc45_68071524a35alevel0_row1\" class=\"row_heading level0 row1\" >True Van Gogh</th>\n",
       "                        <td id=\"T_eed54fc0_a2ba_11ea_bc45_68071524a35arow1_col0\" class=\"data row1 col0\" >24.53%</td>\n",
       "                        <td id=\"T_eed54fc0_a2ba_11ea_bc45_68071524a35arow1_col1\" class=\"data row1 col1\" >0.00%</td>\n",
       "            </tr>\n",
       "    </tbody></table>"
      ],
      "text/plain": [
       "<pandas.io.formats.style.Styler at 0x15309edf5f8>"
      ]
     },
     "metadata": {},
     "output_type": "display_data"
    },
    {
     "name": "stdout",
     "output_type": "stream",
     "text": [
      "Score on test data: 75.47%\n",
      "P[True Van|Pred Van]= 0.00%\n"
     ]
    }
   ],
   "source": [
    "#Decision Tree for No_Faces\n",
    "\n",
    "X_train=Catalog_train[['No_Faces']]\n",
    "X_test=Catalog_test[['No_Faces']]\n",
    "\n",
    "tree_cl2=DecisionTreeClassifier(max_depth=2)\n",
    "\n",
    "tree_cl2.fit(X_train,y_train)\n",
    "print_results(X_train,y_train,tree_cl2,'train')\n",
    "print_results(X_test,y_test,tree_cl2)"
   ]
  },
  {
   "cell_type": "code",
   "execution_count": 14,
   "metadata": {
    "scrolled": true
   },
   "outputs": [],
   "source": [
    "# This function was modified from stackexchange user hughdbrown \n",
    "# at this link, \n",
    "# https://stackoverflow.com/questions/1482308/how-to-get-all-subsets-of-a-set-powerset\n",
    "\n",
    "# This returns the power set of a set minus the empty set\n",
    "def powerset_no_empty(s):\n",
    "    power_set = []\n",
    "    x = len(s)\n",
    "    for i in range(1 << x):\n",
    "        power_set.append([s[j] for j in range(x) if (i & (1 << j))])\n",
    "            \n",
    "    return power_set[1:]"
   ]
  },
  {
   "cell_type": "code",
   "execution_count": 15,
   "metadata": {
    "scrolled": false
   },
   "outputs": [
    {
     "name": "stdout",
     "output_type": "stream",
     "text": [
      "['Pred_Whole']\n"
     ]
    },
    {
     "data": {
      "text/html": [
       "<style  type=\"text/css\" >\n",
       "</style><table id=\"T_eef48c4a_a2ba_11ea_9b46_68071524a35a\" ><thead>    <tr>        <th class=\"blank level0\" ></th>        <th class=\"col_heading level0 col0\" >Pred. Other</th>        <th class=\"col_heading level0 col1\" >Pred. Van Gog</th>    </tr></thead><tbody>\n",
       "                <tr>\n",
       "                        <th id=\"T_eef48c4a_a2ba_11ea_9b46_68071524a35alevel0_row0\" class=\"row_heading level0 row0\" >True Other</th>\n",
       "                        <td id=\"T_eef48c4a_a2ba_11ea_9b46_68071524a35arow0_col0\" class=\"data row0 col0\" >64.15%</td>\n",
       "                        <td id=\"T_eef48c4a_a2ba_11ea_9b46_68071524a35arow0_col1\" class=\"data row0 col1\" >11.32%</td>\n",
       "            </tr>\n",
       "            <tr>\n",
       "                        <th id=\"T_eef48c4a_a2ba_11ea_9b46_68071524a35alevel0_row1\" class=\"row_heading level0 row1\" >True Van Gogh</th>\n",
       "                        <td id=\"T_eef48c4a_a2ba_11ea_9b46_68071524a35arow1_col0\" class=\"data row1 col0\" >13.21%</td>\n",
       "                        <td id=\"T_eef48c4a_a2ba_11ea_9b46_68071524a35arow1_col1\" class=\"data row1 col1\" >11.32%</td>\n",
       "            </tr>\n",
       "    </tbody></table>"
      ],
      "text/plain": [
       "<pandas.io.formats.style.Styler at 0x1532fe60358>"
      ]
     },
     "metadata": {},
     "output_type": "display_data"
    },
    {
     "name": "stdout",
     "output_type": "stream",
     "text": [
      "Score on test data: 75.47%\n",
      "P[True Van|Pred Van]= 50.00%\n",
      "--------------------------\n",
      "['Pred_Face']\n"
     ]
    },
    {
     "data": {
      "text/html": [
       "<style  type=\"text/css\" >\n",
       "</style><table id=\"T_eef8334a_a2ba_11ea_95a3_68071524a35a\" ><thead>    <tr>        <th class=\"blank level0\" ></th>        <th class=\"col_heading level0 col0\" >Pred. Other</th>        <th class=\"col_heading level0 col1\" >Pred. Van Gog</th>    </tr></thead><tbody>\n",
       "                <tr>\n",
       "                        <th id=\"T_eef8334a_a2ba_11ea_95a3_68071524a35alevel0_row0\" class=\"row_heading level0 row0\" >True Other</th>\n",
       "                        <td id=\"T_eef8334a_a2ba_11ea_95a3_68071524a35arow0_col0\" class=\"data row0 col0\" >75.47%</td>\n",
       "                        <td id=\"T_eef8334a_a2ba_11ea_95a3_68071524a35arow0_col1\" class=\"data row0 col1\" >0.00%</td>\n",
       "            </tr>\n",
       "            <tr>\n",
       "                        <th id=\"T_eef8334a_a2ba_11ea_95a3_68071524a35alevel0_row1\" class=\"row_heading level0 row1\" >True Van Gogh</th>\n",
       "                        <td id=\"T_eef8334a_a2ba_11ea_95a3_68071524a35arow1_col0\" class=\"data row1 col0\" >24.53%</td>\n",
       "                        <td id=\"T_eef8334a_a2ba_11ea_95a3_68071524a35arow1_col1\" class=\"data row1 col1\" >0.00%</td>\n",
       "            </tr>\n",
       "    </tbody></table>"
      ],
      "text/plain": [
       "<pandas.io.formats.style.Styler at 0x1532fe60828>"
      ]
     },
     "metadata": {},
     "output_type": "display_data"
    },
    {
     "name": "stdout",
     "output_type": "stream",
     "text": [
      "Score on test data: 75.47%\n",
      "P[True Van|Pred Van]= 0.00%\n",
      "--------------------------\n",
      "['Pred_Whole', 'Pred_Face']\n"
     ]
    },
    {
     "data": {
      "text/html": [
       "<style  type=\"text/css\" >\n",
       "</style><table id=\"T_eefcb110_a2ba_11ea_8e9a_68071524a35a\" ><thead>    <tr>        <th class=\"blank level0\" ></th>        <th class=\"col_heading level0 col0\" >Pred. Other</th>        <th class=\"col_heading level0 col1\" >Pred. Van Gog</th>    </tr></thead><tbody>\n",
       "                <tr>\n",
       "                        <th id=\"T_eefcb110_a2ba_11ea_8e9a_68071524a35alevel0_row0\" class=\"row_heading level0 row0\" >True Other</th>\n",
       "                        <td id=\"T_eefcb110_a2ba_11ea_8e9a_68071524a35arow0_col0\" class=\"data row0 col0\" >68.40%</td>\n",
       "                        <td id=\"T_eefcb110_a2ba_11ea_8e9a_68071524a35arow0_col1\" class=\"data row0 col1\" >7.08%</td>\n",
       "            </tr>\n",
       "            <tr>\n",
       "                        <th id=\"T_eefcb110_a2ba_11ea_8e9a_68071524a35alevel0_row1\" class=\"row_heading level0 row1\" >True Van Gogh</th>\n",
       "                        <td id=\"T_eefcb110_a2ba_11ea_8e9a_68071524a35arow1_col0\" class=\"data row1 col0\" >15.57%</td>\n",
       "                        <td id=\"T_eefcb110_a2ba_11ea_8e9a_68071524a35arow1_col1\" class=\"data row1 col1\" >8.96%</td>\n",
       "            </tr>\n",
       "    </tbody></table>"
      ],
      "text/plain": [
       "<pandas.io.formats.style.Styler at 0x1532fe60668>"
      ]
     },
     "metadata": {},
     "output_type": "display_data"
    },
    {
     "name": "stdout",
     "output_type": "stream",
     "text": [
      "Score on test data: 77.36%\n",
      "P[True Van|Pred Van]= 55.88%\n",
      "--------------------------\n",
      "['Pred_Face_Hist']\n"
     ]
    },
    {
     "data": {
      "text/html": [
       "<style  type=\"text/css\" >\n",
       "</style><table id=\"T_ef018fc2_a2ba_11ea_81d8_68071524a35a\" ><thead>    <tr>        <th class=\"blank level0\" ></th>        <th class=\"col_heading level0 col0\" >Pred. Other</th>        <th class=\"col_heading level0 col1\" >Pred. Van Gog</th>    </tr></thead><tbody>\n",
       "                <tr>\n",
       "                        <th id=\"T_ef018fc2_a2ba_11ea_81d8_68071524a35alevel0_row0\" class=\"row_heading level0 row0\" >True Other</th>\n",
       "                        <td id=\"T_ef018fc2_a2ba_11ea_81d8_68071524a35arow0_col0\" class=\"data row0 col0\" >71.70%</td>\n",
       "                        <td id=\"T_ef018fc2_a2ba_11ea_81d8_68071524a35arow0_col1\" class=\"data row0 col1\" >3.77%</td>\n",
       "            </tr>\n",
       "            <tr>\n",
       "                        <th id=\"T_ef018fc2_a2ba_11ea_81d8_68071524a35alevel0_row1\" class=\"row_heading level0 row1\" >True Van Gogh</th>\n",
       "                        <td id=\"T_ef018fc2_a2ba_11ea_81d8_68071524a35arow1_col0\" class=\"data row1 col0\" >21.23%</td>\n",
       "                        <td id=\"T_ef018fc2_a2ba_11ea_81d8_68071524a35arow1_col1\" class=\"data row1 col1\" >3.30%</td>\n",
       "            </tr>\n",
       "    </tbody></table>"
      ],
      "text/plain": [
       "<pandas.io.formats.style.Styler at 0x1532fe604a8>"
      ]
     },
     "metadata": {},
     "output_type": "display_data"
    },
    {
     "name": "stdout",
     "output_type": "stream",
     "text": [
      "Score on test data: 75.00%\n",
      "P[True Van|Pred Van]= 46.67%\n",
      "--------------------------\n",
      "['Pred_Whole', 'Pred_Face_Hist']\n"
     ]
    },
    {
     "data": {
      "text/html": [
       "<style  type=\"text/css\" >\n",
       "</style><table id=\"T_ef0536cc_a2ba_11ea_9074_68071524a35a\" ><thead>    <tr>        <th class=\"blank level0\" ></th>        <th class=\"col_heading level0 col0\" >Pred. Other</th>        <th class=\"col_heading level0 col1\" >Pred. Van Gog</th>    </tr></thead><tbody>\n",
       "                <tr>\n",
       "                        <th id=\"T_ef0536cc_a2ba_11ea_9074_68071524a35alevel0_row0\" class=\"row_heading level0 row0\" >True Other</th>\n",
       "                        <td id=\"T_ef0536cc_a2ba_11ea_9074_68071524a35arow0_col0\" class=\"data row0 col0\" >64.62%</td>\n",
       "                        <td id=\"T_ef0536cc_a2ba_11ea_9074_68071524a35arow0_col1\" class=\"data row0 col1\" >10.85%</td>\n",
       "            </tr>\n",
       "            <tr>\n",
       "                        <th id=\"T_ef0536cc_a2ba_11ea_9074_68071524a35alevel0_row1\" class=\"row_heading level0 row1\" >True Van Gogh</th>\n",
       "                        <td id=\"T_ef0536cc_a2ba_11ea_9074_68071524a35arow1_col0\" class=\"data row1 col0\" >13.68%</td>\n",
       "                        <td id=\"T_ef0536cc_a2ba_11ea_9074_68071524a35arow1_col1\" class=\"data row1 col1\" >10.85%</td>\n",
       "            </tr>\n",
       "    </tbody></table>"
      ],
      "text/plain": [
       "<pandas.io.formats.style.Styler at 0x1532fe60518>"
      ]
     },
     "metadata": {},
     "output_type": "display_data"
    },
    {
     "name": "stdout",
     "output_type": "stream",
     "text": [
      "Score on test data: 75.47%\n",
      "P[True Van|Pred Van]= 50.00%\n",
      "--------------------------\n",
      "['Pred_Face', 'Pred_Face_Hist']\n"
     ]
    },
    {
     "data": {
      "text/html": [
       "<style  type=\"text/css\" >\n",
       "</style><table id=\"T_ef092bae_a2ba_11ea_9c5f_68071524a35a\" ><thead>    <tr>        <th class=\"blank level0\" ></th>        <th class=\"col_heading level0 col0\" >Pred. Other</th>        <th class=\"col_heading level0 col1\" >Pred. Van Gog</th>    </tr></thead><tbody>\n",
       "                <tr>\n",
       "                        <th id=\"T_ef092bae_a2ba_11ea_9c5f_68071524a35alevel0_row0\" class=\"row_heading level0 row0\" >True Other</th>\n",
       "                        <td id=\"T_ef092bae_a2ba_11ea_9c5f_68071524a35arow0_col0\" class=\"data row0 col0\" >72.17%</td>\n",
       "                        <td id=\"T_ef092bae_a2ba_11ea_9c5f_68071524a35arow0_col1\" class=\"data row0 col1\" >3.30%</td>\n",
       "            </tr>\n",
       "            <tr>\n",
       "                        <th id=\"T_ef092bae_a2ba_11ea_9c5f_68071524a35alevel0_row1\" class=\"row_heading level0 row1\" >True Van Gogh</th>\n",
       "                        <td id=\"T_ef092bae_a2ba_11ea_9c5f_68071524a35arow1_col0\" class=\"data row1 col0\" >21.23%</td>\n",
       "                        <td id=\"T_ef092bae_a2ba_11ea_9c5f_68071524a35arow1_col1\" class=\"data row1 col1\" >3.30%</td>\n",
       "            </tr>\n",
       "    </tbody></table>"
      ],
      "text/plain": [
       "<pandas.io.formats.style.Styler at 0x15309edf588>"
      ]
     },
     "metadata": {},
     "output_type": "display_data"
    },
    {
     "name": "stdout",
     "output_type": "stream",
     "text": [
      "Score on test data: 75.47%\n",
      "P[True Van|Pred Van]= 50.00%\n",
      "--------------------------\n",
      "['Pred_Whole', 'Pred_Face', 'Pred_Face_Hist']\n"
     ]
    },
    {
     "data": {
      "text/html": [
       "<style  type=\"text/css\" >\n",
       "</style><table id=\"T_ef0c84c6_a2ba_11ea_85c4_68071524a35a\" ><thead>    <tr>        <th class=\"blank level0\" ></th>        <th class=\"col_heading level0 col0\" >Pred. Other</th>        <th class=\"col_heading level0 col1\" >Pred. Van Gog</th>    </tr></thead><tbody>\n",
       "                <tr>\n",
       "                        <th id=\"T_ef0c84c6_a2ba_11ea_85c4_68071524a35alevel0_row0\" class=\"row_heading level0 row0\" >True Other</th>\n",
       "                        <td id=\"T_ef0c84c6_a2ba_11ea_85c4_68071524a35arow0_col0\" class=\"data row0 col0\" >65.57%</td>\n",
       "                        <td id=\"T_ef0c84c6_a2ba_11ea_85c4_68071524a35arow0_col1\" class=\"data row0 col1\" >9.91%</td>\n",
       "            </tr>\n",
       "            <tr>\n",
       "                        <th id=\"T_ef0c84c6_a2ba_11ea_85c4_68071524a35alevel0_row1\" class=\"row_heading level0 row1\" >True Van Gogh</th>\n",
       "                        <td id=\"T_ef0c84c6_a2ba_11ea_85c4_68071524a35arow1_col0\" class=\"data row1 col0\" >14.15%</td>\n",
       "                        <td id=\"T_ef0c84c6_a2ba_11ea_85c4_68071524a35arow1_col1\" class=\"data row1 col1\" >10.38%</td>\n",
       "            </tr>\n",
       "    </tbody></table>"
      ],
      "text/plain": [
       "<pandas.io.formats.style.Styler at 0x15309edf908>"
      ]
     },
     "metadata": {},
     "output_type": "display_data"
    },
    {
     "name": "stdout",
     "output_type": "stream",
     "text": [
      "Score on test data: 75.94%\n",
      "P[True Van|Pred Van]= 51.16%\n",
      "--------------------------\n",
      "['Pred_Hist']\n"
     ]
    },
    {
     "data": {
      "text/html": [
       "<style  type=\"text/css\" >\n",
       "</style><table id=\"T_ef10c7a4_a2ba_11ea_a4bb_68071524a35a\" ><thead>    <tr>        <th class=\"blank level0\" ></th>        <th class=\"col_heading level0 col0\" >Pred. Other</th>        <th class=\"col_heading level0 col1\" >Pred. Van Gog</th>    </tr></thead><tbody>\n",
       "                <tr>\n",
       "                        <th id=\"T_ef10c7a4_a2ba_11ea_a4bb_68071524a35alevel0_row0\" class=\"row_heading level0 row0\" >True Other</th>\n",
       "                        <td id=\"T_ef10c7a4_a2ba_11ea_a4bb_68071524a35arow0_col0\" class=\"data row0 col0\" >66.04%</td>\n",
       "                        <td id=\"T_ef10c7a4_a2ba_11ea_a4bb_68071524a35arow0_col1\" class=\"data row0 col1\" >9.43%</td>\n",
       "            </tr>\n",
       "            <tr>\n",
       "                        <th id=\"T_ef10c7a4_a2ba_11ea_a4bb_68071524a35alevel0_row1\" class=\"row_heading level0 row1\" >True Van Gogh</th>\n",
       "                        <td id=\"T_ef10c7a4_a2ba_11ea_a4bb_68071524a35arow1_col0\" class=\"data row1 col0\" >14.15%</td>\n",
       "                        <td id=\"T_ef10c7a4_a2ba_11ea_a4bb_68071524a35arow1_col1\" class=\"data row1 col1\" >10.38%</td>\n",
       "            </tr>\n",
       "    </tbody></table>"
      ],
      "text/plain": [
       "<pandas.io.formats.style.Styler at 0x15309edf128>"
      ]
     },
     "metadata": {},
     "output_type": "display_data"
    },
    {
     "name": "stdout",
     "output_type": "stream",
     "text": [
      "Score on test data: 76.42%\n",
      "P[True Van|Pred Van]= 52.38%\n",
      "--------------------------\n",
      "['Pred_Whole', 'Pred_Hist']\n"
     ]
    },
    {
     "data": {
      "text/html": [
       "<style  type=\"text/css\" >\n",
       "</style><table id=\"T_ef161b1c_a2ba_11ea_a010_68071524a35a\" ><thead>    <tr>        <th class=\"blank level0\" ></th>        <th class=\"col_heading level0 col0\" >Pred. Other</th>        <th class=\"col_heading level0 col1\" >Pred. Van Gog</th>    </tr></thead><tbody>\n",
       "                <tr>\n",
       "                        <th id=\"T_ef161b1c_a2ba_11ea_a010_68071524a35alevel0_row0\" class=\"row_heading level0 row0\" >True Other</th>\n",
       "                        <td id=\"T_ef161b1c_a2ba_11ea_a010_68071524a35arow0_col0\" class=\"data row0 col0\" >66.98%</td>\n",
       "                        <td id=\"T_ef161b1c_a2ba_11ea_a010_68071524a35arow0_col1\" class=\"data row0 col1\" >8.49%</td>\n",
       "            </tr>\n",
       "            <tr>\n",
       "                        <th id=\"T_ef161b1c_a2ba_11ea_a010_68071524a35alevel0_row1\" class=\"row_heading level0 row1\" >True Van Gogh</th>\n",
       "                        <td id=\"T_ef161b1c_a2ba_11ea_a010_68071524a35arow1_col0\" class=\"data row1 col0\" >14.15%</td>\n",
       "                        <td id=\"T_ef161b1c_a2ba_11ea_a010_68071524a35arow1_col1\" class=\"data row1 col1\" >10.38%</td>\n",
       "            </tr>\n",
       "    </tbody></table>"
      ],
      "text/plain": [
       "<pandas.io.formats.style.Styler at 0x15331d94048>"
      ]
     },
     "metadata": {},
     "output_type": "display_data"
    },
    {
     "name": "stdout",
     "output_type": "stream",
     "text": [
      "Score on test data: 77.36%\n",
      "P[True Van|Pred Van]= 55.00%\n",
      "--------------------------\n",
      "['Pred_Face', 'Pred_Hist']\n"
     ]
    },
    {
     "data": {
      "text/html": [
       "<style  type=\"text/css\" >\n",
       "</style><table id=\"T_ef1b47ca_a2ba_11ea_80ae_68071524a35a\" ><thead>    <tr>        <th class=\"blank level0\" ></th>        <th class=\"col_heading level0 col0\" >Pred. Other</th>        <th class=\"col_heading level0 col1\" >Pred. Van Gog</th>    </tr></thead><tbody>\n",
       "                <tr>\n",
       "                        <th id=\"T_ef1b47ca_a2ba_11ea_80ae_68071524a35alevel0_row0\" class=\"row_heading level0 row0\" >True Other</th>\n",
       "                        <td id=\"T_ef1b47ca_a2ba_11ea_80ae_68071524a35arow0_col0\" class=\"data row0 col0\" >66.04%</td>\n",
       "                        <td id=\"T_ef1b47ca_a2ba_11ea_80ae_68071524a35arow0_col1\" class=\"data row0 col1\" >9.43%</td>\n",
       "            </tr>\n",
       "            <tr>\n",
       "                        <th id=\"T_ef1b47ca_a2ba_11ea_80ae_68071524a35alevel0_row1\" class=\"row_heading level0 row1\" >True Van Gogh</th>\n",
       "                        <td id=\"T_ef1b47ca_a2ba_11ea_80ae_68071524a35arow1_col0\" class=\"data row1 col0\" >14.15%</td>\n",
       "                        <td id=\"T_ef1b47ca_a2ba_11ea_80ae_68071524a35arow1_col1\" class=\"data row1 col1\" >10.38%</td>\n",
       "            </tr>\n",
       "    </tbody></table>"
      ],
      "text/plain": [
       "<pandas.io.formats.style.Styler at 0x15331d94518>"
      ]
     },
     "metadata": {},
     "output_type": "display_data"
    },
    {
     "name": "stdout",
     "output_type": "stream",
     "text": [
      "Score on test data: 76.42%\n",
      "P[True Van|Pred Van]= 52.38%\n",
      "--------------------------\n",
      "['Pred_Whole', 'Pred_Face', 'Pred_Hist']\n"
     ]
    },
    {
     "data": {
      "text/html": [
       "<style  type=\"text/css\" >\n",
       "</style><table id=\"T_ef209bde_a2ba_11ea_8d7a_68071524a35a\" ><thead>    <tr>        <th class=\"blank level0\" ></th>        <th class=\"col_heading level0 col0\" >Pred. Other</th>        <th class=\"col_heading level0 col1\" >Pred. Van Gog</th>    </tr></thead><tbody>\n",
       "                <tr>\n",
       "                        <th id=\"T_ef209bde_a2ba_11ea_8d7a_68071524a35alevel0_row0\" class=\"row_heading level0 row0\" >True Other</th>\n",
       "                        <td id=\"T_ef209bde_a2ba_11ea_8d7a_68071524a35arow0_col0\" class=\"data row0 col0\" >66.04%</td>\n",
       "                        <td id=\"T_ef209bde_a2ba_11ea_8d7a_68071524a35arow0_col1\" class=\"data row0 col1\" >9.43%</td>\n",
       "            </tr>\n",
       "            <tr>\n",
       "                        <th id=\"T_ef209bde_a2ba_11ea_8d7a_68071524a35alevel0_row1\" class=\"row_heading level0 row1\" >True Van Gogh</th>\n",
       "                        <td id=\"T_ef209bde_a2ba_11ea_8d7a_68071524a35arow1_col0\" class=\"data row1 col0\" >13.21%</td>\n",
       "                        <td id=\"T_ef209bde_a2ba_11ea_8d7a_68071524a35arow1_col1\" class=\"data row1 col1\" >11.32%</td>\n",
       "            </tr>\n",
       "    </tbody></table>"
      ],
      "text/plain": [
       "<pandas.io.formats.style.Styler at 0x15331d94d30>"
      ]
     },
     "metadata": {},
     "output_type": "display_data"
    },
    {
     "name": "stdout",
     "output_type": "stream",
     "text": [
      "Score on test data: 77.36%\n",
      "P[True Van|Pred Van]= 54.55%\n",
      "--------------------------\n",
      "['Pred_Face_Hist', 'Pred_Hist']\n"
     ]
    },
    {
     "data": {
      "text/html": [
       "<style  type=\"text/css\" >\n",
       "</style><table id=\"T_ef25eeda_a2ba_11ea_9848_68071524a35a\" ><thead>    <tr>        <th class=\"blank level0\" ></th>        <th class=\"col_heading level0 col0\" >Pred. Other</th>        <th class=\"col_heading level0 col1\" >Pred. Van Gog</th>    </tr></thead><tbody>\n",
       "                <tr>\n",
       "                        <th id=\"T_ef25eeda_a2ba_11ea_9848_68071524a35alevel0_row0\" class=\"row_heading level0 row0\" >True Other</th>\n",
       "                        <td id=\"T_ef25eeda_a2ba_11ea_9848_68071524a35arow0_col0\" class=\"data row0 col0\" >62.74%</td>\n",
       "                        <td id=\"T_ef25eeda_a2ba_11ea_9848_68071524a35arow0_col1\" class=\"data row0 col1\" >12.74%</td>\n",
       "            </tr>\n",
       "            <tr>\n",
       "                        <th id=\"T_ef25eeda_a2ba_11ea_9848_68071524a35alevel0_row1\" class=\"row_heading level0 row1\" >True Van Gogh</th>\n",
       "                        <td id=\"T_ef25eeda_a2ba_11ea_9848_68071524a35arow1_col0\" class=\"data row1 col0\" >12.26%</td>\n",
       "                        <td id=\"T_ef25eeda_a2ba_11ea_9848_68071524a35arow1_col1\" class=\"data row1 col1\" >12.26%</td>\n",
       "            </tr>\n",
       "    </tbody></table>"
      ],
      "text/plain": [
       "<pandas.io.formats.style.Styler at 0x15309edf550>"
      ]
     },
     "metadata": {},
     "output_type": "display_data"
    },
    {
     "name": "stdout",
     "output_type": "stream",
     "text": [
      "Score on test data: 75.00%\n",
      "P[True Van|Pred Van]= 49.06%\n",
      "--------------------------\n",
      "['Pred_Whole', 'Pred_Face_Hist', 'Pred_Hist']\n"
     ]
    },
    {
     "data": {
      "text/html": [
       "<style  type=\"text/css\" >\n",
       "</style><table id=\"T_ef2acd82_a2ba_11ea_8fec_68071524a35a\" ><thead>    <tr>        <th class=\"blank level0\" ></th>        <th class=\"col_heading level0 col0\" >Pred. Other</th>        <th class=\"col_heading level0 col1\" >Pred. Van Gog</th>    </tr></thead><tbody>\n",
       "                <tr>\n",
       "                        <th id=\"T_ef2acd82_a2ba_11ea_8fec_68071524a35alevel0_row0\" class=\"row_heading level0 row0\" >True Other</th>\n",
       "                        <td id=\"T_ef2acd82_a2ba_11ea_8fec_68071524a35arow0_col0\" class=\"data row0 col0\" >66.04%</td>\n",
       "                        <td id=\"T_ef2acd82_a2ba_11ea_8fec_68071524a35arow0_col1\" class=\"data row0 col1\" >9.43%</td>\n",
       "            </tr>\n",
       "            <tr>\n",
       "                        <th id=\"T_ef2acd82_a2ba_11ea_8fec_68071524a35alevel0_row1\" class=\"row_heading level0 row1\" >True Van Gogh</th>\n",
       "                        <td id=\"T_ef2acd82_a2ba_11ea_8fec_68071524a35arow1_col0\" class=\"data row1 col0\" >13.68%</td>\n",
       "                        <td id=\"T_ef2acd82_a2ba_11ea_8fec_68071524a35arow1_col1\" class=\"data row1 col1\" >10.85%</td>\n",
       "            </tr>\n",
       "    </tbody></table>"
      ],
      "text/plain": [
       "<pandas.io.formats.style.Styler at 0x1531513ee10>"
      ]
     },
     "metadata": {},
     "output_type": "display_data"
    },
    {
     "name": "stdout",
     "output_type": "stream",
     "text": [
      "Score on test data: 76.89%\n",
      "P[True Van|Pred Van]= 53.49%\n",
      "--------------------------\n",
      "['Pred_Face', 'Pred_Face_Hist', 'Pred_Hist']\n"
     ]
    },
    {
     "data": {
      "text/html": [
       "<style  type=\"text/css\" >\n",
       "</style><table id=\"T_ef2f1052_a2ba_11ea_b9e3_68071524a35a\" ><thead>    <tr>        <th class=\"blank level0\" ></th>        <th class=\"col_heading level0 col0\" >Pred. Other</th>        <th class=\"col_heading level0 col1\" >Pred. Van Gog</th>    </tr></thead><tbody>\n",
       "                <tr>\n",
       "                        <th id=\"T_ef2f1052_a2ba_11ea_b9e3_68071524a35alevel0_row0\" class=\"row_heading level0 row0\" >True Other</th>\n",
       "                        <td id=\"T_ef2f1052_a2ba_11ea_b9e3_68071524a35arow0_col0\" class=\"data row0 col0\" >70.75%</td>\n",
       "                        <td id=\"T_ef2f1052_a2ba_11ea_b9e3_68071524a35arow0_col1\" class=\"data row0 col1\" >4.72%</td>\n",
       "            </tr>\n",
       "            <tr>\n",
       "                        <th id=\"T_ef2f1052_a2ba_11ea_b9e3_68071524a35alevel0_row1\" class=\"row_heading level0 row1\" >True Van Gogh</th>\n",
       "                        <td id=\"T_ef2f1052_a2ba_11ea_b9e3_68071524a35arow1_col0\" class=\"data row1 col0\" >15.09%</td>\n",
       "                        <td id=\"T_ef2f1052_a2ba_11ea_b9e3_68071524a35arow1_col1\" class=\"data row1 col1\" >9.43%</td>\n",
       "            </tr>\n",
       "    </tbody></table>"
      ],
      "text/plain": [
       "<pandas.io.formats.style.Styler at 0x1532fe609e8>"
      ]
     },
     "metadata": {},
     "output_type": "display_data"
    },
    {
     "name": "stdout",
     "output_type": "stream",
     "text": [
      "Score on test data: 80.19%\n",
      "P[True Van|Pred Van]= 66.67%\n",
      "--------------------------\n",
      "['Pred_Whole', 'Pred_Face', 'Pred_Face_Hist', 'Pred_Hist']\n"
     ]
    },
    {
     "data": {
      "text/html": [
       "<style  type=\"text/css\" >\n",
       "</style><table id=\"T_ef32de3e_a2ba_11ea_9de2_68071524a35a\" ><thead>    <tr>        <th class=\"blank level0\" ></th>        <th class=\"col_heading level0 col0\" >Pred. Other</th>        <th class=\"col_heading level0 col1\" >Pred. Van Gog</th>    </tr></thead><tbody>\n",
       "                <tr>\n",
       "                        <th id=\"T_ef32de3e_a2ba_11ea_9de2_68071524a35alevel0_row0\" class=\"row_heading level0 row0\" >True Other</th>\n",
       "                        <td id=\"T_ef32de3e_a2ba_11ea_9de2_68071524a35arow0_col0\" class=\"data row0 col0\" >67.92%</td>\n",
       "                        <td id=\"T_ef32de3e_a2ba_11ea_9de2_68071524a35arow0_col1\" class=\"data row0 col1\" >7.55%</td>\n",
       "            </tr>\n",
       "            <tr>\n",
       "                        <th id=\"T_ef32de3e_a2ba_11ea_9de2_68071524a35alevel0_row1\" class=\"row_heading level0 row1\" >True Van Gogh</th>\n",
       "                        <td id=\"T_ef32de3e_a2ba_11ea_9de2_68071524a35arow1_col0\" class=\"data row1 col0\" >13.21%</td>\n",
       "                        <td id=\"T_ef32de3e_a2ba_11ea_9de2_68071524a35arow1_col1\" class=\"data row1 col1\" >11.32%</td>\n",
       "            </tr>\n",
       "    </tbody></table>"
      ],
      "text/plain": [
       "<pandas.io.formats.style.Styler at 0x1532fe605c0>"
      ]
     },
     "metadata": {},
     "output_type": "display_data"
    },
    {
     "name": "stdout",
     "output_type": "stream",
     "text": [
      "Score on test data: 79.25%\n",
      "P[True Van|Pred Van]= 60.00%\n",
      "--------------------------\n",
      "['No_Faces']\n"
     ]
    },
    {
     "data": {
      "text/html": [
       "<style  type=\"text/css\" >\n",
       "</style><table id=\"T_ef37bcf6_a2ba_11ea_8a44_68071524a35a\" ><thead>    <tr>        <th class=\"blank level0\" ></th>        <th class=\"col_heading level0 col0\" >Pred. Other</th>        <th class=\"col_heading level0 col1\" >Pred. Van Gog</th>    </tr></thead><tbody>\n",
       "                <tr>\n",
       "                        <th id=\"T_ef37bcf6_a2ba_11ea_8a44_68071524a35alevel0_row0\" class=\"row_heading level0 row0\" >True Other</th>\n",
       "                        <td id=\"T_ef37bcf6_a2ba_11ea_8a44_68071524a35arow0_col0\" class=\"data row0 col0\" >75.47%</td>\n",
       "                        <td id=\"T_ef37bcf6_a2ba_11ea_8a44_68071524a35arow0_col1\" class=\"data row0 col1\" >0.00%</td>\n",
       "            </tr>\n",
       "            <tr>\n",
       "                        <th id=\"T_ef37bcf6_a2ba_11ea_8a44_68071524a35alevel0_row1\" class=\"row_heading level0 row1\" >True Van Gogh</th>\n",
       "                        <td id=\"T_ef37bcf6_a2ba_11ea_8a44_68071524a35arow1_col0\" class=\"data row1 col0\" >24.53%</td>\n",
       "                        <td id=\"T_ef37bcf6_a2ba_11ea_8a44_68071524a35arow1_col1\" class=\"data row1 col1\" >0.00%</td>\n",
       "            </tr>\n",
       "    </tbody></table>"
      ],
      "text/plain": [
       "<pandas.io.formats.style.Styler at 0x15309edf908>"
      ]
     },
     "metadata": {},
     "output_type": "display_data"
    },
    {
     "name": "stdout",
     "output_type": "stream",
     "text": [
      "Score on test data: 75.47%\n",
      "P[True Van|Pred Van]= 0.00%\n",
      "--------------------------\n",
      "['Pred_Whole', 'No_Faces']\n"
     ]
    },
    {
     "data": {
      "text/html": [
       "<style  type=\"text/css\" >\n",
       "</style><table id=\"T_ef3cc286_a2ba_11ea_8d87_68071524a35a\" ><thead>    <tr>        <th class=\"blank level0\" ></th>        <th class=\"col_heading level0 col0\" >Pred. Other</th>        <th class=\"col_heading level0 col1\" >Pred. Van Gog</th>    </tr></thead><tbody>\n",
       "                <tr>\n",
       "                        <th id=\"T_ef3cc286_a2ba_11ea_8d87_68071524a35alevel0_row0\" class=\"row_heading level0 row0\" >True Other</th>\n",
       "                        <td id=\"T_ef3cc286_a2ba_11ea_8d87_68071524a35arow0_col0\" class=\"data row0 col0\" >64.62%</td>\n",
       "                        <td id=\"T_ef3cc286_a2ba_11ea_8d87_68071524a35arow0_col1\" class=\"data row0 col1\" >10.85%</td>\n",
       "            </tr>\n",
       "            <tr>\n",
       "                        <th id=\"T_ef3cc286_a2ba_11ea_8d87_68071524a35alevel0_row1\" class=\"row_heading level0 row1\" >True Van Gogh</th>\n",
       "                        <td id=\"T_ef3cc286_a2ba_11ea_8d87_68071524a35arow1_col0\" class=\"data row1 col0\" >13.21%</td>\n",
       "                        <td id=\"T_ef3cc286_a2ba_11ea_8d87_68071524a35arow1_col1\" class=\"data row1 col1\" >11.32%</td>\n",
       "            </tr>\n",
       "    </tbody></table>"
      ],
      "text/plain": [
       "<pandas.io.formats.style.Styler at 0x15331d94908>"
      ]
     },
     "metadata": {},
     "output_type": "display_data"
    },
    {
     "name": "stdout",
     "output_type": "stream",
     "text": [
      "Score on test data: 75.94%\n",
      "P[True Van|Pred Van]= 51.06%\n",
      "--------------------------\n",
      "['Pred_Face', 'No_Faces']\n"
     ]
    },
    {
     "data": {
      "text/html": [
       "<style  type=\"text/css\" >\n",
       "</style><table id=\"T_ef41a126_a2ba_11ea_8f9b_68071524a35a\" ><thead>    <tr>        <th class=\"blank level0\" ></th>        <th class=\"col_heading level0 col0\" >Pred. Other</th>        <th class=\"col_heading level0 col1\" >Pred. Van Gog</th>    </tr></thead><tbody>\n",
       "                <tr>\n",
       "                        <th id=\"T_ef41a126_a2ba_11ea_8f9b_68071524a35alevel0_row0\" class=\"row_heading level0 row0\" >True Other</th>\n",
       "                        <td id=\"T_ef41a126_a2ba_11ea_8f9b_68071524a35arow0_col0\" class=\"data row0 col0\" >75.47%</td>\n",
       "                        <td id=\"T_ef41a126_a2ba_11ea_8f9b_68071524a35arow0_col1\" class=\"data row0 col1\" >0.00%</td>\n",
       "            </tr>\n",
       "            <tr>\n",
       "                        <th id=\"T_ef41a126_a2ba_11ea_8f9b_68071524a35alevel0_row1\" class=\"row_heading level0 row1\" >True Van Gogh</th>\n",
       "                        <td id=\"T_ef41a126_a2ba_11ea_8f9b_68071524a35arow1_col0\" class=\"data row1 col0\" >24.53%</td>\n",
       "                        <td id=\"T_ef41a126_a2ba_11ea_8f9b_68071524a35arow1_col1\" class=\"data row1 col1\" >0.00%</td>\n",
       "            </tr>\n",
       "    </tbody></table>"
      ],
      "text/plain": [
       "<pandas.io.formats.style.Styler at 0x15331d94d68>"
      ]
     },
     "metadata": {},
     "output_type": "display_data"
    },
    {
     "name": "stdout",
     "output_type": "stream",
     "text": [
      "Score on test data: 75.47%\n",
      "P[True Van|Pred Van]= 0.00%\n",
      "--------------------------\n",
      "['Pred_Whole', 'Pred_Face', 'No_Faces']\n"
     ]
    },
    {
     "data": {
      "text/html": [
       "<style  type=\"text/css\" >\n",
       "</style><table id=\"T_ef460b10_a2ba_11ea_893e_68071524a35a\" ><thead>    <tr>        <th class=\"blank level0\" ></th>        <th class=\"col_heading level0 col0\" >Pred. Other</th>        <th class=\"col_heading level0 col1\" >Pred. Van Gog</th>    </tr></thead><tbody>\n",
       "                <tr>\n",
       "                        <th id=\"T_ef460b10_a2ba_11ea_893e_68071524a35alevel0_row0\" class=\"row_heading level0 row0\" >True Other</th>\n",
       "                        <td id=\"T_ef460b10_a2ba_11ea_893e_68071524a35arow0_col0\" class=\"data row0 col0\" >66.04%</td>\n",
       "                        <td id=\"T_ef460b10_a2ba_11ea_893e_68071524a35arow0_col1\" class=\"data row0 col1\" >9.43%</td>\n",
       "            </tr>\n",
       "            <tr>\n",
       "                        <th id=\"T_ef460b10_a2ba_11ea_893e_68071524a35alevel0_row1\" class=\"row_heading level0 row1\" >True Van Gogh</th>\n",
       "                        <td id=\"T_ef460b10_a2ba_11ea_893e_68071524a35arow1_col0\" class=\"data row1 col0\" >14.15%</td>\n",
       "                        <td id=\"T_ef460b10_a2ba_11ea_893e_68071524a35arow1_col1\" class=\"data row1 col1\" >10.38%</td>\n",
       "            </tr>\n",
       "    </tbody></table>"
      ],
      "text/plain": [
       "<pandas.io.formats.style.Styler at 0x15331d94780>"
      ]
     },
     "metadata": {},
     "output_type": "display_data"
    },
    {
     "name": "stdout",
     "output_type": "stream",
     "text": [
      "Score on test data: 76.42%\n",
      "P[True Van|Pred Van]= 52.38%\n",
      "--------------------------\n",
      "['Pred_Face_Hist', 'No_Faces']\n"
     ]
    },
    {
     "data": {
      "text/html": [
       "<style  type=\"text/css\" >\n",
       "</style><table id=\"T_ef4ac2b4_a2ba_11ea_8b10_68071524a35a\" ><thead>    <tr>        <th class=\"blank level0\" ></th>        <th class=\"col_heading level0 col0\" >Pred. Other</th>        <th class=\"col_heading level0 col1\" >Pred. Van Gog</th>    </tr></thead><tbody>\n",
       "                <tr>\n",
       "                        <th id=\"T_ef4ac2b4_a2ba_11ea_8b10_68071524a35alevel0_row0\" class=\"row_heading level0 row0\" >True Other</th>\n",
       "                        <td id=\"T_ef4ac2b4_a2ba_11ea_8b10_68071524a35arow0_col0\" class=\"data row0 col0\" >72.17%</td>\n",
       "                        <td id=\"T_ef4ac2b4_a2ba_11ea_8b10_68071524a35arow0_col1\" class=\"data row0 col1\" >3.30%</td>\n",
       "            </tr>\n",
       "            <tr>\n",
       "                        <th id=\"T_ef4ac2b4_a2ba_11ea_8b10_68071524a35alevel0_row1\" class=\"row_heading level0 row1\" >True Van Gogh</th>\n",
       "                        <td id=\"T_ef4ac2b4_a2ba_11ea_8b10_68071524a35arow1_col0\" class=\"data row1 col0\" >21.70%</td>\n",
       "                        <td id=\"T_ef4ac2b4_a2ba_11ea_8b10_68071524a35arow1_col1\" class=\"data row1 col1\" >2.83%</td>\n",
       "            </tr>\n",
       "    </tbody></table>"
      ],
      "text/plain": [
       "<pandas.io.formats.style.Styler at 0x15331d94d68>"
      ]
     },
     "metadata": {},
     "output_type": "display_data"
    },
    {
     "name": "stdout",
     "output_type": "stream",
     "text": [
      "Score on test data: 75.00%\n",
      "P[True Van|Pred Van]= 46.15%\n",
      "--------------------------\n",
      "['Pred_Whole', 'Pred_Face_Hist', 'No_Faces']\n"
     ]
    },
    {
     "data": {
      "text/html": [
       "<style  type=\"text/css\" >\n",
       "</style><table id=\"T_ef4fef48_a2ba_11ea_b621_68071524a35a\" ><thead>    <tr>        <th class=\"blank level0\" ></th>        <th class=\"col_heading level0 col0\" >Pred. Other</th>        <th class=\"col_heading level0 col1\" >Pred. Van Gog</th>    </tr></thead><tbody>\n",
       "                <tr>\n",
       "                        <th id=\"T_ef4fef48_a2ba_11ea_b621_68071524a35alevel0_row0\" class=\"row_heading level0 row0\" >True Other</th>\n",
       "                        <td id=\"T_ef4fef48_a2ba_11ea_b621_68071524a35arow0_col0\" class=\"data row0 col0\" >63.68%</td>\n",
       "                        <td id=\"T_ef4fef48_a2ba_11ea_b621_68071524a35arow0_col1\" class=\"data row0 col1\" >11.79%</td>\n",
       "            </tr>\n",
       "            <tr>\n",
       "                        <th id=\"T_ef4fef48_a2ba_11ea_b621_68071524a35alevel0_row1\" class=\"row_heading level0 row1\" >True Van Gogh</th>\n",
       "                        <td id=\"T_ef4fef48_a2ba_11ea_b621_68071524a35arow1_col0\" class=\"data row1 col0\" >12.74%</td>\n",
       "                        <td id=\"T_ef4fef48_a2ba_11ea_b621_68071524a35arow1_col1\" class=\"data row1 col1\" >11.79%</td>\n",
       "            </tr>\n",
       "    </tbody></table>"
      ],
      "text/plain": [
       "<pandas.io.formats.style.Styler at 0x15331d94a58>"
      ]
     },
     "metadata": {},
     "output_type": "display_data"
    },
    {
     "name": "stdout",
     "output_type": "stream",
     "text": [
      "Score on test data: 75.47%\n",
      "P[True Van|Pred Van]= 50.00%\n",
      "--------------------------\n",
      "['Pred_Face', 'Pred_Face_Hist', 'No_Faces']\n"
     ]
    },
    {
     "data": {
      "text/html": [
       "<style  type=\"text/css\" >\n",
       "</style><table id=\"T_ef54a708_a2ba_11ea_aea9_68071524a35a\" ><thead>    <tr>        <th class=\"blank level0\" ></th>        <th class=\"col_heading level0 col0\" >Pred. Other</th>        <th class=\"col_heading level0 col1\" >Pred. Van Gog</th>    </tr></thead><tbody>\n",
       "                <tr>\n",
       "                        <th id=\"T_ef54a708_a2ba_11ea_aea9_68071524a35alevel0_row0\" class=\"row_heading level0 row0\" >True Other</th>\n",
       "                        <td id=\"T_ef54a708_a2ba_11ea_aea9_68071524a35arow0_col0\" class=\"data row0 col0\" >72.64%</td>\n",
       "                        <td id=\"T_ef54a708_a2ba_11ea_aea9_68071524a35arow0_col1\" class=\"data row0 col1\" >2.83%</td>\n",
       "            </tr>\n",
       "            <tr>\n",
       "                        <th id=\"T_ef54a708_a2ba_11ea_aea9_68071524a35alevel0_row1\" class=\"row_heading level0 row1\" >True Van Gogh</th>\n",
       "                        <td id=\"T_ef54a708_a2ba_11ea_aea9_68071524a35arow1_col0\" class=\"data row1 col0\" >21.23%</td>\n",
       "                        <td id=\"T_ef54a708_a2ba_11ea_aea9_68071524a35arow1_col1\" class=\"data row1 col1\" >3.30%</td>\n",
       "            </tr>\n",
       "    </tbody></table>"
      ],
      "text/plain": [
       "<pandas.io.formats.style.Styler at 0x153148fca58>"
      ]
     },
     "metadata": {},
     "output_type": "display_data"
    },
    {
     "name": "stdout",
     "output_type": "stream",
     "text": [
      "Score on test data: 75.94%\n",
      "P[True Van|Pred Van]= 53.85%\n",
      "--------------------------\n",
      "['Pred_Whole', 'Pred_Face', 'Pred_Face_Hist', 'No_Faces']\n"
     ]
    },
    {
     "data": {
      "text/html": [
       "<style  type=\"text/css\" >\n",
       "</style><table id=\"T_ef59d39c_a2ba_11ea_b78e_68071524a35a\" ><thead>    <tr>        <th class=\"blank level0\" ></th>        <th class=\"col_heading level0 col0\" >Pred. Other</th>        <th class=\"col_heading level0 col1\" >Pred. Van Gog</th>    </tr></thead><tbody>\n",
       "                <tr>\n",
       "                        <th id=\"T_ef59d39c_a2ba_11ea_b78e_68071524a35alevel0_row0\" class=\"row_heading level0 row0\" >True Other</th>\n",
       "                        <td id=\"T_ef59d39c_a2ba_11ea_b78e_68071524a35arow0_col0\" class=\"data row0 col0\" >64.62%</td>\n",
       "                        <td id=\"T_ef59d39c_a2ba_11ea_b78e_68071524a35arow0_col1\" class=\"data row0 col1\" >10.85%</td>\n",
       "            </tr>\n",
       "            <tr>\n",
       "                        <th id=\"T_ef59d39c_a2ba_11ea_b78e_68071524a35alevel0_row1\" class=\"row_heading level0 row1\" >True Van Gogh</th>\n",
       "                        <td id=\"T_ef59d39c_a2ba_11ea_b78e_68071524a35arow1_col0\" class=\"data row1 col0\" >13.21%</td>\n",
       "                        <td id=\"T_ef59d39c_a2ba_11ea_b78e_68071524a35arow1_col1\" class=\"data row1 col1\" >11.32%</td>\n",
       "            </tr>\n",
       "    </tbody></table>"
      ],
      "text/plain": [
       "<pandas.io.formats.style.Styler at 0x1532fe600b8>"
      ]
     },
     "metadata": {},
     "output_type": "display_data"
    },
    {
     "name": "stdout",
     "output_type": "stream",
     "text": [
      "Score on test data: 75.94%\n",
      "P[True Van|Pred Van]= 51.06%\n",
      "--------------------------\n",
      "['Pred_Hist', 'No_Faces']\n"
     ]
    },
    {
     "data": {
      "text/html": [
       "<style  type=\"text/css\" >\n",
       "</style><table id=\"T_ef5e3d62_a2ba_11ea_8375_68071524a35a\" ><thead>    <tr>        <th class=\"blank level0\" ></th>        <th class=\"col_heading level0 col0\" >Pred. Other</th>        <th class=\"col_heading level0 col1\" >Pred. Van Gog</th>    </tr></thead><tbody>\n",
       "                <tr>\n",
       "                        <th id=\"T_ef5e3d62_a2ba_11ea_8375_68071524a35alevel0_row0\" class=\"row_heading level0 row0\" >True Other</th>\n",
       "                        <td id=\"T_ef5e3d62_a2ba_11ea_8375_68071524a35arow0_col0\" class=\"data row0 col0\" >66.98%</td>\n",
       "                        <td id=\"T_ef5e3d62_a2ba_11ea_8375_68071524a35arow0_col1\" class=\"data row0 col1\" >8.49%</td>\n",
       "            </tr>\n",
       "            <tr>\n",
       "                        <th id=\"T_ef5e3d62_a2ba_11ea_8375_68071524a35alevel0_row1\" class=\"row_heading level0 row1\" >True Van Gogh</th>\n",
       "                        <td id=\"T_ef5e3d62_a2ba_11ea_8375_68071524a35arow1_col0\" class=\"data row1 col0\" >14.15%</td>\n",
       "                        <td id=\"T_ef5e3d62_a2ba_11ea_8375_68071524a35arow1_col1\" class=\"data row1 col1\" >10.38%</td>\n",
       "            </tr>\n",
       "    </tbody></table>"
      ],
      "text/plain": [
       "<pandas.io.formats.style.Styler at 0x1532fe606a0>"
      ]
     },
     "metadata": {},
     "output_type": "display_data"
    },
    {
     "name": "stdout",
     "output_type": "stream",
     "text": [
      "Score on test data: 77.36%\n",
      "P[True Van|Pred Van]= 55.00%\n",
      "--------------------------\n",
      "['Pred_Whole', 'Pred_Hist', 'No_Faces']\n"
     ]
    },
    {
     "data": {
      "text/html": [
       "<style  type=\"text/css\" >\n",
       "</style><table id=\"T_ef62ce1c_a2ba_11ea_8916_68071524a35a\" ><thead>    <tr>        <th class=\"blank level0\" ></th>        <th class=\"col_heading level0 col0\" >Pred. Other</th>        <th class=\"col_heading level0 col1\" >Pred. Van Gog</th>    </tr></thead><tbody>\n",
       "                <tr>\n",
       "                        <th id=\"T_ef62ce1c_a2ba_11ea_8916_68071524a35alevel0_row0\" class=\"row_heading level0 row0\" >True Other</th>\n",
       "                        <td id=\"T_ef62ce1c_a2ba_11ea_8916_68071524a35arow0_col0\" class=\"data row0 col0\" >66.04%</td>\n",
       "                        <td id=\"T_ef62ce1c_a2ba_11ea_8916_68071524a35arow0_col1\" class=\"data row0 col1\" >9.43%</td>\n",
       "            </tr>\n",
       "            <tr>\n",
       "                        <th id=\"T_ef62ce1c_a2ba_11ea_8916_68071524a35alevel0_row1\" class=\"row_heading level0 row1\" >True Van Gogh</th>\n",
       "                        <td id=\"T_ef62ce1c_a2ba_11ea_8916_68071524a35arow1_col0\" class=\"data row1 col0\" >14.15%</td>\n",
       "                        <td id=\"T_ef62ce1c_a2ba_11ea_8916_68071524a35arow1_col1\" class=\"data row1 col1\" >10.38%</td>\n",
       "            </tr>\n",
       "    </tbody></table>"
      ],
      "text/plain": [
       "<pandas.io.formats.style.Styler at 0x1532fe60438>"
      ]
     },
     "metadata": {},
     "output_type": "display_data"
    },
    {
     "name": "stdout",
     "output_type": "stream",
     "text": [
      "Score on test data: 76.42%\n",
      "P[True Van|Pred Van]= 52.38%\n",
      "--------------------------\n",
      "['Pred_Face', 'Pred_Hist', 'No_Faces']\n"
     ]
    },
    {
     "data": {
      "text/html": [
       "<style  type=\"text/css\" >\n",
       "</style><table id=\"T_ef67acc6_a2ba_11ea_85cf_68071524a35a\" ><thead>    <tr>        <th class=\"blank level0\" ></th>        <th class=\"col_heading level0 col0\" >Pred. Other</th>        <th class=\"col_heading level0 col1\" >Pred. Van Gog</th>    </tr></thead><tbody>\n",
       "                <tr>\n",
       "                        <th id=\"T_ef67acc6_a2ba_11ea_85cf_68071524a35alevel0_row0\" class=\"row_heading level0 row0\" >True Other</th>\n",
       "                        <td id=\"T_ef67acc6_a2ba_11ea_85cf_68071524a35arow0_col0\" class=\"data row0 col0\" >66.98%</td>\n",
       "                        <td id=\"T_ef67acc6_a2ba_11ea_85cf_68071524a35arow0_col1\" class=\"data row0 col1\" >8.49%</td>\n",
       "            </tr>\n",
       "            <tr>\n",
       "                        <th id=\"T_ef67acc6_a2ba_11ea_85cf_68071524a35alevel0_row1\" class=\"row_heading level0 row1\" >True Van Gogh</th>\n",
       "                        <td id=\"T_ef67acc6_a2ba_11ea_85cf_68071524a35arow1_col0\" class=\"data row1 col0\" >14.15%</td>\n",
       "                        <td id=\"T_ef67acc6_a2ba_11ea_85cf_68071524a35arow1_col1\" class=\"data row1 col1\" >10.38%</td>\n",
       "            </tr>\n",
       "    </tbody></table>"
      ],
      "text/plain": [
       "<pandas.io.formats.style.Styler at 0x15309edf048>"
      ]
     },
     "metadata": {},
     "output_type": "display_data"
    },
    {
     "name": "stdout",
     "output_type": "stream",
     "text": [
      "Score on test data: 77.36%\n",
      "P[True Van|Pred Van]= 55.00%\n",
      "--------------------------\n",
      "['Pred_Whole', 'Pred_Face', 'Pred_Hist', 'No_Faces']\n"
     ]
    },
    {
     "data": {
      "text/html": [
       "<style  type=\"text/css\" >\n",
       "</style><table id=\"T_ef6c6488_a2ba_11ea_a3d3_68071524a35a\" ><thead>    <tr>        <th class=\"blank level0\" ></th>        <th class=\"col_heading level0 col0\" >Pred. Other</th>        <th class=\"col_heading level0 col1\" >Pred. Van Gog</th>    </tr></thead><tbody>\n",
       "                <tr>\n",
       "                        <th id=\"T_ef6c6488_a2ba_11ea_a3d3_68071524a35alevel0_row0\" class=\"row_heading level0 row0\" >True Other</th>\n",
       "                        <td id=\"T_ef6c6488_a2ba_11ea_a3d3_68071524a35arow0_col0\" class=\"data row0 col0\" >66.51%</td>\n",
       "                        <td id=\"T_ef6c6488_a2ba_11ea_a3d3_68071524a35arow0_col1\" class=\"data row0 col1\" >8.96%</td>\n",
       "            </tr>\n",
       "            <tr>\n",
       "                        <th id=\"T_ef6c6488_a2ba_11ea_a3d3_68071524a35alevel0_row1\" class=\"row_heading level0 row1\" >True Van Gogh</th>\n",
       "                        <td id=\"T_ef6c6488_a2ba_11ea_a3d3_68071524a35arow1_col0\" class=\"data row1 col0\" >14.15%</td>\n",
       "                        <td id=\"T_ef6c6488_a2ba_11ea_a3d3_68071524a35arow1_col1\" class=\"data row1 col1\" >10.38%</td>\n",
       "            </tr>\n",
       "    </tbody></table>"
      ],
      "text/plain": [
       "<pandas.io.formats.style.Styler at 0x15331d94908>"
      ]
     },
     "metadata": {},
     "output_type": "display_data"
    },
    {
     "name": "stdout",
     "output_type": "stream",
     "text": [
      "Score on test data: 76.89%\n",
      "P[True Van|Pred Van]= 53.66%\n",
      "--------------------------\n",
      "['Pred_Face_Hist', 'Pred_Hist', 'No_Faces']\n"
     ]
    },
    {
     "data": {
      "text/html": [
       "<style  type=\"text/css\" >\n",
       "</style><table id=\"T_ef711c3a_a2ba_11ea_9f88_68071524a35a\" ><thead>    <tr>        <th class=\"blank level0\" ></th>        <th class=\"col_heading level0 col0\" >Pred. Other</th>        <th class=\"col_heading level0 col1\" >Pred. Van Gog</th>    </tr></thead><tbody>\n",
       "                <tr>\n",
       "                        <th id=\"T_ef711c3a_a2ba_11ea_9f88_68071524a35alevel0_row0\" class=\"row_heading level0 row0\" >True Other</th>\n",
       "                        <td id=\"T_ef711c3a_a2ba_11ea_9f88_68071524a35arow0_col0\" class=\"data row0 col0\" >63.68%</td>\n",
       "                        <td id=\"T_ef711c3a_a2ba_11ea_9f88_68071524a35arow0_col1\" class=\"data row0 col1\" >11.79%</td>\n",
       "            </tr>\n",
       "            <tr>\n",
       "                        <th id=\"T_ef711c3a_a2ba_11ea_9f88_68071524a35alevel0_row1\" class=\"row_heading level0 row1\" >True Van Gogh</th>\n",
       "                        <td id=\"T_ef711c3a_a2ba_11ea_9f88_68071524a35arow1_col0\" class=\"data row1 col0\" >12.74%</td>\n",
       "                        <td id=\"T_ef711c3a_a2ba_11ea_9f88_68071524a35arow1_col1\" class=\"data row1 col1\" >11.79%</td>\n",
       "            </tr>\n",
       "    </tbody></table>"
      ],
      "text/plain": [
       "<pandas.io.formats.style.Styler at 0x15309edf048>"
      ]
     },
     "metadata": {},
     "output_type": "display_data"
    },
    {
     "name": "stdout",
     "output_type": "stream",
     "text": [
      "Score on test data: 75.47%\n",
      "P[True Van|Pred Van]= 50.00%\n",
      "--------------------------\n",
      "['Pred_Whole', 'Pred_Face_Hist', 'Pred_Hist', 'No_Faces']\n"
     ]
    },
    {
     "data": {
      "text/html": [
       "<style  type=\"text/css\" >\n",
       "</style><table id=\"T_ef75faf4_a2ba_11ea_93d7_68071524a35a\" ><thead>    <tr>        <th class=\"blank level0\" ></th>        <th class=\"col_heading level0 col0\" >Pred. Other</th>        <th class=\"col_heading level0 col1\" >Pred. Van Gog</th>    </tr></thead><tbody>\n",
       "                <tr>\n",
       "                        <th id=\"T_ef75faf4_a2ba_11ea_93d7_68071524a35alevel0_row0\" class=\"row_heading level0 row0\" >True Other</th>\n",
       "                        <td id=\"T_ef75faf4_a2ba_11ea_93d7_68071524a35arow0_col0\" class=\"data row0 col0\" >66.51%</td>\n",
       "                        <td id=\"T_ef75faf4_a2ba_11ea_93d7_68071524a35arow0_col1\" class=\"data row0 col1\" >8.96%</td>\n",
       "            </tr>\n",
       "            <tr>\n",
       "                        <th id=\"T_ef75faf4_a2ba_11ea_93d7_68071524a35alevel0_row1\" class=\"row_heading level0 row1\" >True Van Gogh</th>\n",
       "                        <td id=\"T_ef75faf4_a2ba_11ea_93d7_68071524a35arow1_col0\" class=\"data row1 col0\" >13.68%</td>\n",
       "                        <td id=\"T_ef75faf4_a2ba_11ea_93d7_68071524a35arow1_col1\" class=\"data row1 col1\" >10.85%</td>\n",
       "            </tr>\n",
       "    </tbody></table>"
      ],
      "text/plain": [
       "<pandas.io.formats.style.Styler at 0x15309edf2b0>"
      ]
     },
     "metadata": {},
     "output_type": "display_data"
    },
    {
     "name": "stdout",
     "output_type": "stream",
     "text": [
      "Score on test data: 77.36%\n",
      "P[True Van|Pred Van]= 54.76%\n",
      "--------------------------\n",
      "['Pred_Face', 'Pred_Face_Hist', 'Pred_Hist', 'No_Faces']\n"
     ]
    },
    {
     "data": {
      "text/html": [
       "<style  type=\"text/css\" >\n",
       "</style><table id=\"T_ef7ab29e_a2ba_11ea_87f9_68071524a35a\" ><thead>    <tr>        <th class=\"blank level0\" ></th>        <th class=\"col_heading level0 col0\" >Pred. Other</th>        <th class=\"col_heading level0 col1\" >Pred. Van Gog</th>    </tr></thead><tbody>\n",
       "                <tr>\n",
       "                        <th id=\"T_ef7ab29e_a2ba_11ea_87f9_68071524a35alevel0_row0\" class=\"row_heading level0 row0\" >True Other</th>\n",
       "                        <td id=\"T_ef7ab29e_a2ba_11ea_87f9_68071524a35arow0_col0\" class=\"data row0 col0\" >70.75%</td>\n",
       "                        <td id=\"T_ef7ab29e_a2ba_11ea_87f9_68071524a35arow0_col1\" class=\"data row0 col1\" >4.72%</td>\n",
       "            </tr>\n",
       "            <tr>\n",
       "                        <th id=\"T_ef7ab29e_a2ba_11ea_87f9_68071524a35alevel0_row1\" class=\"row_heading level0 row1\" >True Van Gogh</th>\n",
       "                        <td id=\"T_ef7ab29e_a2ba_11ea_87f9_68071524a35arow1_col0\" class=\"data row1 col0\" >15.09%</td>\n",
       "                        <td id=\"T_ef7ab29e_a2ba_11ea_87f9_68071524a35arow1_col1\" class=\"data row1 col1\" >9.43%</td>\n",
       "            </tr>\n",
       "    </tbody></table>"
      ],
      "text/plain": [
       "<pandas.io.formats.style.Styler at 0x1532fe604a8>"
      ]
     },
     "metadata": {},
     "output_type": "display_data"
    },
    {
     "name": "stdout",
     "output_type": "stream",
     "text": [
      "Score on test data: 80.19%\n",
      "P[True Van|Pred Van]= 66.67%\n",
      "--------------------------\n",
      "['Pred_Whole', 'Pred_Face', 'Pred_Face_Hist', 'Pred_Hist', 'No_Faces']\n"
     ]
    },
    {
     "data": {
      "text/html": [
       "<style  type=\"text/css\" >\n",
       "</style><table id=\"T_ef7fdf2e_a2ba_11ea_bc34_68071524a35a\" ><thead>    <tr>        <th class=\"blank level0\" ></th>        <th class=\"col_heading level0 col0\" >Pred. Other</th>        <th class=\"col_heading level0 col1\" >Pred. Van Gog</th>    </tr></thead><tbody>\n",
       "                <tr>\n",
       "                        <th id=\"T_ef7fdf2e_a2ba_11ea_bc34_68071524a35alevel0_row0\" class=\"row_heading level0 row0\" >True Other</th>\n",
       "                        <td id=\"T_ef7fdf2e_a2ba_11ea_bc34_68071524a35arow0_col0\" class=\"data row0 col0\" >67.45%</td>\n",
       "                        <td id=\"T_ef7fdf2e_a2ba_11ea_bc34_68071524a35arow0_col1\" class=\"data row0 col1\" >8.02%</td>\n",
       "            </tr>\n",
       "            <tr>\n",
       "                        <th id=\"T_ef7fdf2e_a2ba_11ea_bc34_68071524a35alevel0_row1\" class=\"row_heading level0 row1\" >True Van Gogh</th>\n",
       "                        <td id=\"T_ef7fdf2e_a2ba_11ea_bc34_68071524a35arow1_col0\" class=\"data row1 col0\" >13.68%</td>\n",
       "                        <td id=\"T_ef7fdf2e_a2ba_11ea_bc34_68071524a35arow1_col1\" class=\"data row1 col1\" >10.85%</td>\n",
       "            </tr>\n",
       "    </tbody></table>"
      ],
      "text/plain": [
       "<pandas.io.formats.style.Styler at 0x1532fe609e8>"
      ]
     },
     "metadata": {},
     "output_type": "display_data"
    },
    {
     "name": "stdout",
     "output_type": "stream",
     "text": [
      "Score on test data: 78.30%\n",
      "P[True Van|Pred Van]= 57.50%\n",
      "--------------------------\n",
      "['Mean_Strokes']\n"
     ]
    },
    {
     "data": {
      "text/html": [
       "<style  type=\"text/css\" >\n",
       "</style><table id=\"T_ef84d2d0_a2ba_11ea_b554_68071524a35a\" ><thead>    <tr>        <th class=\"blank level0\" ></th>        <th class=\"col_heading level0 col0\" >Pred. Other</th>        <th class=\"col_heading level0 col1\" >Pred. Van Gog</th>    </tr></thead><tbody>\n",
       "                <tr>\n",
       "                        <th id=\"T_ef84d2d0_a2ba_11ea_b554_68071524a35alevel0_row0\" class=\"row_heading level0 row0\" >True Other</th>\n",
       "                        <td id=\"T_ef84d2d0_a2ba_11ea_b554_68071524a35arow0_col0\" class=\"data row0 col0\" >70.75%</td>\n",
       "                        <td id=\"T_ef84d2d0_a2ba_11ea_b554_68071524a35arow0_col1\" class=\"data row0 col1\" >4.72%</td>\n",
       "            </tr>\n",
       "            <tr>\n",
       "                        <th id=\"T_ef84d2d0_a2ba_11ea_b554_68071524a35alevel0_row1\" class=\"row_heading level0 row1\" >True Van Gogh</th>\n",
       "                        <td id=\"T_ef84d2d0_a2ba_11ea_b554_68071524a35arow1_col0\" class=\"data row1 col0\" >15.57%</td>\n",
       "                        <td id=\"T_ef84d2d0_a2ba_11ea_b554_68071524a35arow1_col1\" class=\"data row1 col1\" >8.96%</td>\n",
       "            </tr>\n",
       "    </tbody></table>"
      ],
      "text/plain": [
       "<pandas.io.formats.style.Styler at 0x15331d94dd8>"
      ]
     },
     "metadata": {},
     "output_type": "display_data"
    },
    {
     "name": "stdout",
     "output_type": "stream",
     "text": [
      "Score on test data: 79.72%\n",
      "P[True Van|Pred Van]= 65.52%\n",
      "--------------------------\n",
      "['Pred_Whole', 'Mean_Strokes']\n"
     ]
    },
    {
     "data": {
      "text/html": [
       "<style  type=\"text/css\" >\n",
       "</style><table id=\"T_ef88ee9e_a2ba_11ea_9736_68071524a35a\" ><thead>    <tr>        <th class=\"blank level0\" ></th>        <th class=\"col_heading level0 col0\" >Pred. Other</th>        <th class=\"col_heading level0 col1\" >Pred. Van Gog</th>    </tr></thead><tbody>\n",
       "                <tr>\n",
       "                        <th id=\"T_ef88ee9e_a2ba_11ea_9736_68071524a35alevel0_row0\" class=\"row_heading level0 row0\" >True Other</th>\n",
       "                        <td id=\"T_ef88ee9e_a2ba_11ea_9736_68071524a35arow0_col0\" class=\"data row0 col0\" >66.98%</td>\n",
       "                        <td id=\"T_ef88ee9e_a2ba_11ea_9736_68071524a35arow0_col1\" class=\"data row0 col1\" >8.49%</td>\n",
       "            </tr>\n",
       "            <tr>\n",
       "                        <th id=\"T_ef88ee9e_a2ba_11ea_9736_68071524a35alevel0_row1\" class=\"row_heading level0 row1\" >True Van Gogh</th>\n",
       "                        <td id=\"T_ef88ee9e_a2ba_11ea_9736_68071524a35arow1_col0\" class=\"data row1 col0\" >13.21%</td>\n",
       "                        <td id=\"T_ef88ee9e_a2ba_11ea_9736_68071524a35arow1_col1\" class=\"data row1 col1\" >11.32%</td>\n",
       "            </tr>\n",
       "    </tbody></table>"
      ],
      "text/plain": [
       "<pandas.io.formats.style.Styler at 0x15331d94d68>"
      ]
     },
     "metadata": {},
     "output_type": "display_data"
    },
    {
     "name": "stdout",
     "output_type": "stream",
     "text": [
      "Score on test data: 78.30%\n",
      "P[True Van|Pred Van]= 57.14%\n",
      "--------------------------\n",
      "['Pred_Face', 'Mean_Strokes']\n"
     ]
    },
    {
     "data": {
      "text/html": [
       "<style  type=\"text/css\" >\n",
       "</style><table id=\"T_ef8dcd50_a2ba_11ea_a212_68071524a35a\" ><thead>    <tr>        <th class=\"blank level0\" ></th>        <th class=\"col_heading level0 col0\" >Pred. Other</th>        <th class=\"col_heading level0 col1\" >Pred. Van Gog</th>    </tr></thead><tbody>\n",
       "                <tr>\n",
       "                        <th id=\"T_ef8dcd50_a2ba_11ea_a212_68071524a35alevel0_row0\" class=\"row_heading level0 row0\" >True Other</th>\n",
       "                        <td id=\"T_ef8dcd50_a2ba_11ea_a212_68071524a35arow0_col0\" class=\"data row0 col0\" >70.75%</td>\n",
       "                        <td id=\"T_ef8dcd50_a2ba_11ea_a212_68071524a35arow0_col1\" class=\"data row0 col1\" >4.72%</td>\n",
       "            </tr>\n",
       "            <tr>\n",
       "                        <th id=\"T_ef8dcd50_a2ba_11ea_a212_68071524a35alevel0_row1\" class=\"row_heading level0 row1\" >True Van Gogh</th>\n",
       "                        <td id=\"T_ef8dcd50_a2ba_11ea_a212_68071524a35arow1_col0\" class=\"data row1 col0\" >14.62%</td>\n",
       "                        <td id=\"T_ef8dcd50_a2ba_11ea_a212_68071524a35arow1_col1\" class=\"data row1 col1\" >9.91%</td>\n",
       "            </tr>\n",
       "    </tbody></table>"
      ],
      "text/plain": [
       "<pandas.io.formats.style.Styler at 0x15331d94048>"
      ]
     },
     "metadata": {},
     "output_type": "display_data"
    },
    {
     "name": "stdout",
     "output_type": "stream",
     "text": [
      "Score on test data: 80.66%\n",
      "P[True Van|Pred Van]= 67.74%\n",
      "--------------------------\n",
      "['Pred_Whole', 'Pred_Face', 'Mean_Strokes']\n"
     ]
    },
    {
     "data": {
      "text/html": [
       "<style  type=\"text/css\" >\n",
       "</style><table id=\"T_ef92f9dc_a2ba_11ea_8501_68071524a35a\" ><thead>    <tr>        <th class=\"blank level0\" ></th>        <th class=\"col_heading level0 col0\" >Pred. Other</th>        <th class=\"col_heading level0 col1\" >Pred. Van Gog</th>    </tr></thead><tbody>\n",
       "                <tr>\n",
       "                        <th id=\"T_ef92f9dc_a2ba_11ea_8501_68071524a35alevel0_row0\" class=\"row_heading level0 row0\" >True Other</th>\n",
       "                        <td id=\"T_ef92f9dc_a2ba_11ea_8501_68071524a35arow0_col0\" class=\"data row0 col0\" >66.04%</td>\n",
       "                        <td id=\"T_ef92f9dc_a2ba_11ea_8501_68071524a35arow0_col1\" class=\"data row0 col1\" >9.43%</td>\n",
       "            </tr>\n",
       "            <tr>\n",
       "                        <th id=\"T_ef92f9dc_a2ba_11ea_8501_68071524a35alevel0_row1\" class=\"row_heading level0 row1\" >True Van Gogh</th>\n",
       "                        <td id=\"T_ef92f9dc_a2ba_11ea_8501_68071524a35arow1_col0\" class=\"data row1 col0\" >13.21%</td>\n",
       "                        <td id=\"T_ef92f9dc_a2ba_11ea_8501_68071524a35arow1_col1\" class=\"data row1 col1\" >11.32%</td>\n",
       "            </tr>\n",
       "    </tbody></table>"
      ],
      "text/plain": [
       "<pandas.io.formats.style.Styler at 0x15331dda278>"
      ]
     },
     "metadata": {},
     "output_type": "display_data"
    },
    {
     "name": "stdout",
     "output_type": "stream",
     "text": [
      "Score on test data: 77.36%\n",
      "P[True Van|Pred Van]= 54.55%\n",
      "--------------------------\n",
      "['Pred_Face_Hist', 'Mean_Strokes']\n"
     ]
    },
    {
     "data": {
      "text/html": [
       "<style  type=\"text/css\" >\n",
       "</style><table id=\"T_ef97d890_a2ba_11ea_a0b9_68071524a35a\" ><thead>    <tr>        <th class=\"blank level0\" ></th>        <th class=\"col_heading level0 col0\" >Pred. Other</th>        <th class=\"col_heading level0 col1\" >Pred. Van Gog</th>    </tr></thead><tbody>\n",
       "                <tr>\n",
       "                        <th id=\"T_ef97d890_a2ba_11ea_a0b9_68071524a35alevel0_row0\" class=\"row_heading level0 row0\" >True Other</th>\n",
       "                        <td id=\"T_ef97d890_a2ba_11ea_a0b9_68071524a35arow0_col0\" class=\"data row0 col0\" >70.28%</td>\n",
       "                        <td id=\"T_ef97d890_a2ba_11ea_a0b9_68071524a35arow0_col1\" class=\"data row0 col1\" >5.19%</td>\n",
       "            </tr>\n",
       "            <tr>\n",
       "                        <th id=\"T_ef97d890_a2ba_11ea_a0b9_68071524a35alevel0_row1\" class=\"row_heading level0 row1\" >True Van Gogh</th>\n",
       "                        <td id=\"T_ef97d890_a2ba_11ea_a0b9_68071524a35arow1_col0\" class=\"data row1 col0\" >13.21%</td>\n",
       "                        <td id=\"T_ef97d890_a2ba_11ea_a0b9_68071524a35arow1_col1\" class=\"data row1 col1\" >11.32%</td>\n",
       "            </tr>\n",
       "    </tbody></table>"
      ],
      "text/plain": [
       "<pandas.io.formats.style.Styler at 0x15331d947f0>"
      ]
     },
     "metadata": {},
     "output_type": "display_data"
    },
    {
     "name": "stdout",
     "output_type": "stream",
     "text": [
      "Score on test data: 81.60%\n",
      "P[True Van|Pred Van]= 68.57%\n",
      "--------------------------\n",
      "['Pred_Whole', 'Pred_Face_Hist', 'Mean_Strokes']\n"
     ]
    },
    {
     "data": {
      "text/html": [
       "<style  type=\"text/css\" >\n",
       "</style><table id=\"T_ef9d5324_a2ba_11ea_82f5_68071524a35a\" ><thead>    <tr>        <th class=\"blank level0\" ></th>        <th class=\"col_heading level0 col0\" >Pred. Other</th>        <th class=\"col_heading level0 col1\" >Pred. Van Gog</th>    </tr></thead><tbody>\n",
       "                <tr>\n",
       "                        <th id=\"T_ef9d5324_a2ba_11ea_82f5_68071524a35alevel0_row0\" class=\"row_heading level0 row0\" >True Other</th>\n",
       "                        <td id=\"T_ef9d5324_a2ba_11ea_82f5_68071524a35arow0_col0\" class=\"data row0 col0\" >65.57%</td>\n",
       "                        <td id=\"T_ef9d5324_a2ba_11ea_82f5_68071524a35arow0_col1\" class=\"data row0 col1\" >9.91%</td>\n",
       "            </tr>\n",
       "            <tr>\n",
       "                        <th id=\"T_ef9d5324_a2ba_11ea_82f5_68071524a35alevel0_row1\" class=\"row_heading level0 row1\" >True Van Gogh</th>\n",
       "                        <td id=\"T_ef9d5324_a2ba_11ea_82f5_68071524a35arow1_col0\" class=\"data row1 col0\" >13.21%</td>\n",
       "                        <td id=\"T_ef9d5324_a2ba_11ea_82f5_68071524a35arow1_col1\" class=\"data row1 col1\" >11.32%</td>\n",
       "            </tr>\n",
       "    </tbody></table>"
      ],
      "text/plain": [
       "<pandas.io.formats.style.Styler at 0x15331d946a0>"
      ]
     },
     "metadata": {},
     "output_type": "display_data"
    },
    {
     "name": "stdout",
     "output_type": "stream",
     "text": [
      "Score on test data: 76.89%\n",
      "P[True Van|Pred Van]= 53.33%\n",
      "--------------------------\n",
      "['Pred_Face', 'Pred_Face_Hist', 'Mean_Strokes']\n"
     ]
    },
    {
     "data": {
      "text/html": [
       "<style  type=\"text/css\" >\n",
       "</style><table id=\"T_efa1e3c6_a2ba_11ea_9451_68071524a35a\" ><thead>    <tr>        <th class=\"blank level0\" ></th>        <th class=\"col_heading level0 col0\" >Pred. Other</th>        <th class=\"col_heading level0 col1\" >Pred. Van Gog</th>    </tr></thead><tbody>\n",
       "                <tr>\n",
       "                        <th id=\"T_efa1e3c6_a2ba_11ea_9451_68071524a35alevel0_row0\" class=\"row_heading level0 row0\" >True Other</th>\n",
       "                        <td id=\"T_efa1e3c6_a2ba_11ea_9451_68071524a35arow0_col0\" class=\"data row0 col0\" >69.34%</td>\n",
       "                        <td id=\"T_efa1e3c6_a2ba_11ea_9451_68071524a35arow0_col1\" class=\"data row0 col1\" >6.13%</td>\n",
       "            </tr>\n",
       "            <tr>\n",
       "                        <th id=\"T_efa1e3c6_a2ba_11ea_9451_68071524a35alevel0_row1\" class=\"row_heading level0 row1\" >True Van Gogh</th>\n",
       "                        <td id=\"T_efa1e3c6_a2ba_11ea_9451_68071524a35arow1_col0\" class=\"data row1 col0\" >15.57%</td>\n",
       "                        <td id=\"T_efa1e3c6_a2ba_11ea_9451_68071524a35arow1_col1\" class=\"data row1 col1\" >8.96%</td>\n",
       "            </tr>\n",
       "    </tbody></table>"
      ],
      "text/plain": [
       "<pandas.io.formats.style.Styler at 0x15331d948d0>"
      ]
     },
     "metadata": {},
     "output_type": "display_data"
    },
    {
     "name": "stdout",
     "output_type": "stream",
     "text": [
      "Score on test data: 78.30%\n",
      "P[True Van|Pred Van]= 59.38%\n",
      "--------------------------\n",
      "['Pred_Whole', 'Pred_Face', 'Pred_Face_Hist', 'Mean_Strokes']\n"
     ]
    },
    {
     "data": {
      "text/html": [
       "<style  type=\"text/css\" >\n",
       "</style><table id=\"T_efa64d92_a2ba_11ea_8294_68071524a35a\" ><thead>    <tr>        <th class=\"blank level0\" ></th>        <th class=\"col_heading level0 col0\" >Pred. Other</th>        <th class=\"col_heading level0 col1\" >Pred. Van Gog</th>    </tr></thead><tbody>\n",
       "                <tr>\n",
       "                        <th id=\"T_efa64d92_a2ba_11ea_8294_68071524a35alevel0_row0\" class=\"row_heading level0 row0\" >True Other</th>\n",
       "                        <td id=\"T_efa64d92_a2ba_11ea_8294_68071524a35arow0_col0\" class=\"data row0 col0\" >66.04%</td>\n",
       "                        <td id=\"T_efa64d92_a2ba_11ea_8294_68071524a35arow0_col1\" class=\"data row0 col1\" >9.43%</td>\n",
       "            </tr>\n",
       "            <tr>\n",
       "                        <th id=\"T_efa64d92_a2ba_11ea_8294_68071524a35alevel0_row1\" class=\"row_heading level0 row1\" >True Van Gogh</th>\n",
       "                        <td id=\"T_efa64d92_a2ba_11ea_8294_68071524a35arow1_col0\" class=\"data row1 col0\" >14.62%</td>\n",
       "                        <td id=\"T_efa64d92_a2ba_11ea_8294_68071524a35arow1_col1\" class=\"data row1 col1\" >9.91%</td>\n",
       "            </tr>\n",
       "    </tbody></table>"
      ],
      "text/plain": [
       "<pandas.io.formats.style.Styler at 0x1532fe600b8>"
      ]
     },
     "metadata": {},
     "output_type": "display_data"
    },
    {
     "name": "stdout",
     "output_type": "stream",
     "text": [
      "Score on test data: 75.94%\n",
      "P[True Van|Pred Van]= 51.22%\n",
      "--------------------------\n",
      "['Pred_Hist', 'Mean_Strokes']\n"
     ]
    },
    {
     "data": {
      "text/html": [
       "<style  type=\"text/css\" >\n",
       "</style><table id=\"T_efab7a24_a2ba_11ea_a4df_68071524a35a\" ><thead>    <tr>        <th class=\"blank level0\" ></th>        <th class=\"col_heading level0 col0\" >Pred. Other</th>        <th class=\"col_heading level0 col1\" >Pred. Van Gog</th>    </tr></thead><tbody>\n",
       "                <tr>\n",
       "                        <th id=\"T_efab7a24_a2ba_11ea_a4df_68071524a35alevel0_row0\" class=\"row_heading level0 row0\" >True Other</th>\n",
       "                        <td id=\"T_efab7a24_a2ba_11ea_a4df_68071524a35arow0_col0\" class=\"data row0 col0\" >70.28%</td>\n",
       "                        <td id=\"T_efab7a24_a2ba_11ea_a4df_68071524a35arow0_col1\" class=\"data row0 col1\" >5.19%</td>\n",
       "            </tr>\n",
       "            <tr>\n",
       "                        <th id=\"T_efab7a24_a2ba_11ea_a4df_68071524a35alevel0_row1\" class=\"row_heading level0 row1\" >True Van Gogh</th>\n",
       "                        <td id=\"T_efab7a24_a2ba_11ea_a4df_68071524a35arow1_col0\" class=\"data row1 col0\" >12.74%</td>\n",
       "                        <td id=\"T_efab7a24_a2ba_11ea_a4df_68071524a35arow1_col1\" class=\"data row1 col1\" >11.79%</td>\n",
       "            </tr>\n",
       "    </tbody></table>"
      ],
      "text/plain": [
       "<pandas.io.formats.style.Styler at 0x1532fe604a8>"
      ]
     },
     "metadata": {},
     "output_type": "display_data"
    },
    {
     "name": "stdout",
     "output_type": "stream",
     "text": [
      "Score on test data: 82.08%\n",
      "P[True Van|Pred Van]= 69.44%\n",
      "--------------------------\n",
      "['Pred_Whole', 'Pred_Hist', 'Mean_Strokes']\n"
     ]
    },
    {
     "data": {
      "text/html": [
       "<style  type=\"text/css\" >\n",
       "</style><table id=\"T_efaf9608_a2ba_11ea_8ae2_68071524a35a\" ><thead>    <tr>        <th class=\"blank level0\" ></th>        <th class=\"col_heading level0 col0\" >Pred. Other</th>        <th class=\"col_heading level0 col1\" >Pred. Van Gog</th>    </tr></thead><tbody>\n",
       "                <tr>\n",
       "                        <th id=\"T_efaf9608_a2ba_11ea_8ae2_68071524a35alevel0_row0\" class=\"row_heading level0 row0\" >True Other</th>\n",
       "                        <td id=\"T_efaf9608_a2ba_11ea_8ae2_68071524a35arow0_col0\" class=\"data row0 col0\" >63.68%</td>\n",
       "                        <td id=\"T_efaf9608_a2ba_11ea_8ae2_68071524a35arow0_col1\" class=\"data row0 col1\" >11.79%</td>\n",
       "            </tr>\n",
       "            <tr>\n",
       "                        <th id=\"T_efaf9608_a2ba_11ea_8ae2_68071524a35alevel0_row1\" class=\"row_heading level0 row1\" >True Van Gogh</th>\n",
       "                        <td id=\"T_efaf9608_a2ba_11ea_8ae2_68071524a35arow1_col0\" class=\"data row1 col0\" >10.85%</td>\n",
       "                        <td id=\"T_efaf9608_a2ba_11ea_8ae2_68071524a35arow1_col1\" class=\"data row1 col1\" >13.68%</td>\n",
       "            </tr>\n",
       "    </tbody></table>"
      ],
      "text/plain": [
       "<pandas.io.formats.style.Styler at 0x1532fe60358>"
      ]
     },
     "metadata": {},
     "output_type": "display_data"
    },
    {
     "name": "stdout",
     "output_type": "stream",
     "text": [
      "Score on test data: 77.36%\n",
      "P[True Van|Pred Van]= 53.70%\n",
      "--------------------------\n",
      "['Pred_Face', 'Pred_Hist', 'Mean_Strokes']\n"
     ]
    },
    {
     "data": {
      "text/html": [
       "<style  type=\"text/css\" >\n",
       "</style><table id=\"T_efb426c6_a2ba_11ea_8584_68071524a35a\" ><thead>    <tr>        <th class=\"blank level0\" ></th>        <th class=\"col_heading level0 col0\" >Pred. Other</th>        <th class=\"col_heading level0 col1\" >Pred. Van Gog</th>    </tr></thead><tbody>\n",
       "                <tr>\n",
       "                        <th id=\"T_efb426c6_a2ba_11ea_8584_68071524a35alevel0_row0\" class=\"row_heading level0 row0\" >True Other</th>\n",
       "                        <td id=\"T_efb426c6_a2ba_11ea_8584_68071524a35arow0_col0\" class=\"data row0 col0\" >68.87%</td>\n",
       "                        <td id=\"T_efb426c6_a2ba_11ea_8584_68071524a35arow0_col1\" class=\"data row0 col1\" >6.60%</td>\n",
       "            </tr>\n",
       "            <tr>\n",
       "                        <th id=\"T_efb426c6_a2ba_11ea_8584_68071524a35alevel0_row1\" class=\"row_heading level0 row1\" >True Van Gogh</th>\n",
       "                        <td id=\"T_efb426c6_a2ba_11ea_8584_68071524a35arow1_col0\" class=\"data row1 col0\" >11.32%</td>\n",
       "                        <td id=\"T_efb426c6_a2ba_11ea_8584_68071524a35arow1_col1\" class=\"data row1 col1\" >13.21%</td>\n",
       "            </tr>\n",
       "    </tbody></table>"
      ],
      "text/plain": [
       "<pandas.io.formats.style.Styler at 0x153148fca58>"
      ]
     },
     "metadata": {},
     "output_type": "display_data"
    },
    {
     "name": "stdout",
     "output_type": "stream",
     "text": [
      "Score on test data: 82.08%\n",
      "P[True Van|Pred Van]= 66.67%\n",
      "--------------------------\n",
      "['Pred_Whole', 'Pred_Face', 'Pred_Hist', 'Mean_Strokes']\n"
     ]
    },
    {
     "data": {
      "text/html": [
       "<style  type=\"text/css\" >\n",
       "</style><table id=\"T_efb92c64_a2ba_11ea_a5c4_68071524a35a\" ><thead>    <tr>        <th class=\"blank level0\" ></th>        <th class=\"col_heading level0 col0\" >Pred. Other</th>        <th class=\"col_heading level0 col1\" >Pred. Van Gog</th>    </tr></thead><tbody>\n",
       "                <tr>\n",
       "                        <th id=\"T_efb92c64_a2ba_11ea_a5c4_68071524a35alevel0_row0\" class=\"row_heading level0 row0\" >True Other</th>\n",
       "                        <td id=\"T_efb92c64_a2ba_11ea_a5c4_68071524a35arow0_col0\" class=\"data row0 col0\" >66.98%</td>\n",
       "                        <td id=\"T_efb92c64_a2ba_11ea_a5c4_68071524a35arow0_col1\" class=\"data row0 col1\" >8.49%</td>\n",
       "            </tr>\n",
       "            <tr>\n",
       "                        <th id=\"T_efb92c64_a2ba_11ea_a5c4_68071524a35alevel0_row1\" class=\"row_heading level0 row1\" >True Van Gogh</th>\n",
       "                        <td id=\"T_efb92c64_a2ba_11ea_a5c4_68071524a35arow1_col0\" class=\"data row1 col0\" >14.15%</td>\n",
       "                        <td id=\"T_efb92c64_a2ba_11ea_a5c4_68071524a35arow1_col1\" class=\"data row1 col1\" >10.38%</td>\n",
       "            </tr>\n",
       "    </tbody></table>"
      ],
      "text/plain": [
       "<pandas.io.formats.style.Styler at 0x15331dda5f8>"
      ]
     },
     "metadata": {},
     "output_type": "display_data"
    },
    {
     "name": "stdout",
     "output_type": "stream",
     "text": [
      "Score on test data: 77.36%\n",
      "P[True Van|Pred Van]= 55.00%\n",
      "--------------------------\n",
      "['Pred_Face_Hist', 'Pred_Hist', 'Mean_Strokes']\n"
     ]
    },
    {
     "data": {
      "text/html": [
       "<style  type=\"text/css\" >\n",
       "</style><table id=\"T_efbd2158_a2ba_11ea_9069_68071524a35a\" ><thead>    <tr>        <th class=\"blank level0\" ></th>        <th class=\"col_heading level0 col0\" >Pred. Other</th>        <th class=\"col_heading level0 col1\" >Pred. Van Gog</th>    </tr></thead><tbody>\n",
       "                <tr>\n",
       "                        <th id=\"T_efbd2158_a2ba_11ea_9069_68071524a35alevel0_row0\" class=\"row_heading level0 row0\" >True Other</th>\n",
       "                        <td id=\"T_efbd2158_a2ba_11ea_9069_68071524a35arow0_col0\" class=\"data row0 col0\" >68.40%</td>\n",
       "                        <td id=\"T_efbd2158_a2ba_11ea_9069_68071524a35arow0_col1\" class=\"data row0 col1\" >7.08%</td>\n",
       "            </tr>\n",
       "            <tr>\n",
       "                        <th id=\"T_efbd2158_a2ba_11ea_9069_68071524a35alevel0_row1\" class=\"row_heading level0 row1\" >True Van Gogh</th>\n",
       "                        <td id=\"T_efbd2158_a2ba_11ea_9069_68071524a35arow1_col0\" class=\"data row1 col0\" >12.26%</td>\n",
       "                        <td id=\"T_efbd2158_a2ba_11ea_9069_68071524a35arow1_col1\" class=\"data row1 col1\" >12.26%</td>\n",
       "            </tr>\n",
       "    </tbody></table>"
      ],
      "text/plain": [
       "<pandas.io.formats.style.Styler at 0x15309edf048>"
      ]
     },
     "metadata": {},
     "output_type": "display_data"
    },
    {
     "name": "stdout",
     "output_type": "stream",
     "text": [
      "Score on test data: 80.66%\n",
      "P[True Van|Pred Van]= 63.41%\n",
      "--------------------------\n",
      "['Pred_Whole', 'Pred_Face_Hist', 'Pred_Hist', 'Mean_Strokes']\n"
     ]
    },
    {
     "data": {
      "text/html": [
       "<style  type=\"text/css\" >\n",
       "</style><table id=\"T_efc274dc_a2ba_11ea_9782_68071524a35a\" ><thead>    <tr>        <th class=\"blank level0\" ></th>        <th class=\"col_heading level0 col0\" >Pred. Other</th>        <th class=\"col_heading level0 col1\" >Pred. Van Gog</th>    </tr></thead><tbody>\n",
       "                <tr>\n",
       "                        <th id=\"T_efc274dc_a2ba_11ea_9782_68071524a35alevel0_row0\" class=\"row_heading level0 row0\" >True Other</th>\n",
       "                        <td id=\"T_efc274dc_a2ba_11ea_9782_68071524a35arow0_col0\" class=\"data row0 col0\" >67.92%</td>\n",
       "                        <td id=\"T_efc274dc_a2ba_11ea_9782_68071524a35arow0_col1\" class=\"data row0 col1\" >7.55%</td>\n",
       "            </tr>\n",
       "            <tr>\n",
       "                        <th id=\"T_efc274dc_a2ba_11ea_9782_68071524a35alevel0_row1\" class=\"row_heading level0 row1\" >True Van Gogh</th>\n",
       "                        <td id=\"T_efc274dc_a2ba_11ea_9782_68071524a35arow1_col0\" class=\"data row1 col0\" >13.68%</td>\n",
       "                        <td id=\"T_efc274dc_a2ba_11ea_9782_68071524a35arow1_col1\" class=\"data row1 col1\" >10.85%</td>\n",
       "            </tr>\n",
       "    </tbody></table>"
      ],
      "text/plain": [
       "<pandas.io.formats.style.Styler at 0x1532fe605c0>"
      ]
     },
     "metadata": {},
     "output_type": "display_data"
    },
    {
     "name": "stdout",
     "output_type": "stream",
     "text": [
      "Score on test data: 78.77%\n",
      "P[True Van|Pred Van]= 58.97%\n",
      "--------------------------\n",
      "['Pred_Face', 'Pred_Face_Hist', 'Pred_Hist', 'Mean_Strokes']\n"
     ]
    },
    {
     "data": {
      "text/html": [
       "<style  type=\"text/css\" >\n",
       "</style><table id=\"T_efc70658_a2ba_11ea_a432_68071524a35a\" ><thead>    <tr>        <th class=\"blank level0\" ></th>        <th class=\"col_heading level0 col0\" >Pred. Other</th>        <th class=\"col_heading level0 col1\" >Pred. Van Gog</th>    </tr></thead><tbody>\n",
       "                <tr>\n",
       "                        <th id=\"T_efc70658_a2ba_11ea_a432_68071524a35alevel0_row0\" class=\"row_heading level0 row0\" >True Other</th>\n",
       "                        <td id=\"T_efc70658_a2ba_11ea_a432_68071524a35arow0_col0\" class=\"data row0 col0\" >70.75%</td>\n",
       "                        <td id=\"T_efc70658_a2ba_11ea_a432_68071524a35arow0_col1\" class=\"data row0 col1\" >4.72%</td>\n",
       "            </tr>\n",
       "            <tr>\n",
       "                        <th id=\"T_efc70658_a2ba_11ea_a432_68071524a35alevel0_row1\" class=\"row_heading level0 row1\" >True Van Gogh</th>\n",
       "                        <td id=\"T_efc70658_a2ba_11ea_a432_68071524a35arow1_col0\" class=\"data row1 col0\" >13.21%</td>\n",
       "                        <td id=\"T_efc70658_a2ba_11ea_a432_68071524a35arow1_col1\" class=\"data row1 col1\" >11.32%</td>\n",
       "            </tr>\n",
       "    </tbody></table>"
      ],
      "text/plain": [
       "<pandas.io.formats.style.Styler at 0x1532fe60358>"
      ]
     },
     "metadata": {},
     "output_type": "display_data"
    },
    {
     "name": "stdout",
     "output_type": "stream",
     "text": [
      "Score on test data: 82.08%\n",
      "P[True Van|Pred Van]= 70.59%\n",
      "--------------------------\n",
      "['Pred_Whole', 'Pred_Face', 'Pred_Face_Hist', 'Pred_Hist', 'Mean_Strokes']\n"
     ]
    },
    {
     "data": {
      "text/html": [
       "<style  type=\"text/css\" >\n",
       "</style><table id=\"T_efcb4876_a2ba_11ea_a68a_68071524a35a\" ><thead>    <tr>        <th class=\"blank level0\" ></th>        <th class=\"col_heading level0 col0\" >Pred. Other</th>        <th class=\"col_heading level0 col1\" >Pred. Van Gog</th>    </tr></thead><tbody>\n",
       "                <tr>\n",
       "                        <th id=\"T_efcb4876_a2ba_11ea_a68a_68071524a35alevel0_row0\" class=\"row_heading level0 row0\" >True Other</th>\n",
       "                        <td id=\"T_efcb4876_a2ba_11ea_a68a_68071524a35arow0_col0\" class=\"data row0 col0\" >67.45%</td>\n",
       "                        <td id=\"T_efcb4876_a2ba_11ea_a68a_68071524a35arow0_col1\" class=\"data row0 col1\" >8.02%</td>\n",
       "            </tr>\n",
       "            <tr>\n",
       "                        <th id=\"T_efcb4876_a2ba_11ea_a68a_68071524a35alevel0_row1\" class=\"row_heading level0 row1\" >True Van Gogh</th>\n",
       "                        <td id=\"T_efcb4876_a2ba_11ea_a68a_68071524a35arow1_col0\" class=\"data row1 col0\" >12.26%</td>\n",
       "                        <td id=\"T_efcb4876_a2ba_11ea_a68a_68071524a35arow1_col1\" class=\"data row1 col1\" >12.26%</td>\n",
       "            </tr>\n",
       "    </tbody></table>"
      ],
      "text/plain": [
       "<pandas.io.formats.style.Styler at 0x1532fe60780>"
      ]
     },
     "metadata": {},
     "output_type": "display_data"
    },
    {
     "name": "stdout",
     "output_type": "stream",
     "text": [
      "Score on test data: 79.72%\n",
      "P[True Van|Pred Van]= 60.47%\n",
      "--------------------------\n",
      "['No_Faces', 'Mean_Strokes']\n"
     ]
    },
    {
     "data": {
      "text/html": [
       "<style  type=\"text/css\" >\n",
       "</style><table id=\"T_efcf644a_a2ba_11ea_bc0c_68071524a35a\" ><thead>    <tr>        <th class=\"blank level0\" ></th>        <th class=\"col_heading level0 col0\" >Pred. Other</th>        <th class=\"col_heading level0 col1\" >Pred. Van Gog</th>    </tr></thead><tbody>\n",
       "                <tr>\n",
       "                        <th id=\"T_efcf644a_a2ba_11ea_bc0c_68071524a35alevel0_row0\" class=\"row_heading level0 row0\" >True Other</th>\n",
       "                        <td id=\"T_efcf644a_a2ba_11ea_bc0c_68071524a35arow0_col0\" class=\"data row0 col0\" >71.23%</td>\n",
       "                        <td id=\"T_efcf644a_a2ba_11ea_bc0c_68071524a35arow0_col1\" class=\"data row0 col1\" >4.25%</td>\n",
       "            </tr>\n",
       "            <tr>\n",
       "                        <th id=\"T_efcf644a_a2ba_11ea_bc0c_68071524a35alevel0_row1\" class=\"row_heading level0 row1\" >True Van Gogh</th>\n",
       "                        <td id=\"T_efcf644a_a2ba_11ea_bc0c_68071524a35arow1_col0\" class=\"data row1 col0\" >16.04%</td>\n",
       "                        <td id=\"T_efcf644a_a2ba_11ea_bc0c_68071524a35arow1_col1\" class=\"data row1 col1\" >8.49%</td>\n",
       "            </tr>\n",
       "    </tbody></table>"
      ],
      "text/plain": [
       "<pandas.io.formats.style.Styler at 0x15331d94080>"
      ]
     },
     "metadata": {},
     "output_type": "display_data"
    },
    {
     "name": "stdout",
     "output_type": "stream",
     "text": [
      "Score on test data: 79.72%\n",
      "P[True Van|Pred Van]= 66.67%\n",
      "--------------------------\n",
      "['Pred_Whole', 'No_Faces', 'Mean_Strokes']\n"
     ]
    },
    {
     "data": {
      "text/html": [
       "<style  type=\"text/css\" >\n",
       "</style><table id=\"T_efd4302c_a2ba_11ea_bdd6_68071524a35a\" ><thead>    <tr>        <th class=\"blank level0\" ></th>        <th class=\"col_heading level0 col0\" >Pred. Other</th>        <th class=\"col_heading level0 col1\" >Pred. Van Gog</th>    </tr></thead><tbody>\n",
       "                <tr>\n",
       "                        <th id=\"T_efd4302c_a2ba_11ea_bdd6_68071524a35alevel0_row0\" class=\"row_heading level0 row0\" >True Other</th>\n",
       "                        <td id=\"T_efd4302c_a2ba_11ea_bdd6_68071524a35arow0_col0\" class=\"data row0 col0\" >66.04%</td>\n",
       "                        <td id=\"T_efd4302c_a2ba_11ea_bdd6_68071524a35arow0_col1\" class=\"data row0 col1\" >9.43%</td>\n",
       "            </tr>\n",
       "            <tr>\n",
       "                        <th id=\"T_efd4302c_a2ba_11ea_bdd6_68071524a35alevel0_row1\" class=\"row_heading level0 row1\" >True Van Gogh</th>\n",
       "                        <td id=\"T_efd4302c_a2ba_11ea_bdd6_68071524a35arow1_col0\" class=\"data row1 col0\" >13.21%</td>\n",
       "                        <td id=\"T_efd4302c_a2ba_11ea_bdd6_68071524a35arow1_col1\" class=\"data row1 col1\" >11.32%</td>\n",
       "            </tr>\n",
       "    </tbody></table>"
      ],
      "text/plain": [
       "<pandas.io.formats.style.Styler at 0x15331d94a58>"
      ]
     },
     "metadata": {},
     "output_type": "display_data"
    },
    {
     "name": "stdout",
     "output_type": "stream",
     "text": [
      "Score on test data: 77.36%\n",
      "P[True Van|Pred Van]= 54.55%\n",
      "--------------------------\n",
      "['Pred_Face', 'No_Faces', 'Mean_Strokes']\n"
     ]
    },
    {
     "data": {
      "text/html": [
       "<style  type=\"text/css\" >\n",
       "</style><table id=\"T_efd983ca_a2ba_11ea_b419_68071524a35a\" ><thead>    <tr>        <th class=\"blank level0\" ></th>        <th class=\"col_heading level0 col0\" >Pred. Other</th>        <th class=\"col_heading level0 col1\" >Pred. Van Gog</th>    </tr></thead><tbody>\n",
       "                <tr>\n",
       "                        <th id=\"T_efd983ca_a2ba_11ea_b419_68071524a35alevel0_row0\" class=\"row_heading level0 row0\" >True Other</th>\n",
       "                        <td id=\"T_efd983ca_a2ba_11ea_b419_68071524a35arow0_col0\" class=\"data row0 col0\" >71.23%</td>\n",
       "                        <td id=\"T_efd983ca_a2ba_11ea_b419_68071524a35arow0_col1\" class=\"data row0 col1\" >4.25%</td>\n",
       "            </tr>\n",
       "            <tr>\n",
       "                        <th id=\"T_efd983ca_a2ba_11ea_b419_68071524a35alevel0_row1\" class=\"row_heading level0 row1\" >True Van Gogh</th>\n",
       "                        <td id=\"T_efd983ca_a2ba_11ea_b419_68071524a35arow1_col0\" class=\"data row1 col0\" >14.62%</td>\n",
       "                        <td id=\"T_efd983ca_a2ba_11ea_b419_68071524a35arow1_col1\" class=\"data row1 col1\" >9.91%</td>\n",
       "            </tr>\n",
       "    </tbody></table>"
      ],
      "text/plain": [
       "<pandas.io.formats.style.Styler at 0x15331d94d68>"
      ]
     },
     "metadata": {},
     "output_type": "display_data"
    },
    {
     "name": "stdout",
     "output_type": "stream",
     "text": [
      "Score on test data: 81.13%\n",
      "P[True Van|Pred Van]= 70.00%\n",
      "--------------------------\n",
      "['Pred_Whole', 'Pred_Face', 'No_Faces', 'Mean_Strokes']\n"
     ]
    },
    {
     "data": {
      "text/html": [
       "<style  type=\"text/css\" >\n",
       "</style><table id=\"T_efdd9fa2_a2ba_11ea_b7bf_68071524a35a\" ><thead>    <tr>        <th class=\"blank level0\" ></th>        <th class=\"col_heading level0 col0\" >Pred. Other</th>        <th class=\"col_heading level0 col1\" >Pred. Van Gog</th>    </tr></thead><tbody>\n",
       "                <tr>\n",
       "                        <th id=\"T_efdd9fa2_a2ba_11ea_b7bf_68071524a35alevel0_row0\" class=\"row_heading level0 row0\" >True Other</th>\n",
       "                        <td id=\"T_efdd9fa2_a2ba_11ea_b7bf_68071524a35arow0_col0\" class=\"data row0 col0\" >66.98%</td>\n",
       "                        <td id=\"T_efdd9fa2_a2ba_11ea_b7bf_68071524a35arow0_col1\" class=\"data row0 col1\" >8.49%</td>\n",
       "            </tr>\n",
       "            <tr>\n",
       "                        <th id=\"T_efdd9fa2_a2ba_11ea_b7bf_68071524a35alevel0_row1\" class=\"row_heading level0 row1\" >True Van Gogh</th>\n",
       "                        <td id=\"T_efdd9fa2_a2ba_11ea_b7bf_68071524a35arow1_col0\" class=\"data row1 col0\" >14.62%</td>\n",
       "                        <td id=\"T_efdd9fa2_a2ba_11ea_b7bf_68071524a35arow1_col1\" class=\"data row1 col1\" >9.91%</td>\n",
       "            </tr>\n",
       "    </tbody></table>"
      ],
      "text/plain": [
       "<pandas.io.formats.style.Styler at 0x15331dda908>"
      ]
     },
     "metadata": {},
     "output_type": "display_data"
    },
    {
     "name": "stdout",
     "output_type": "stream",
     "text": [
      "Score on test data: 76.89%\n",
      "P[True Van|Pred Van]= 53.85%\n",
      "--------------------------\n",
      "['Pred_Face_Hist', 'No_Faces', 'Mean_Strokes']\n"
     ]
    },
    {
     "data": {
      "text/html": [
       "<style  type=\"text/css\" >\n",
       "</style><table id=\"T_efe1a88c_a2ba_11ea_8cc5_68071524a35a\" ><thead>    <tr>        <th class=\"blank level0\" ></th>        <th class=\"col_heading level0 col0\" >Pred. Other</th>        <th class=\"col_heading level0 col1\" >Pred. Van Gog</th>    </tr></thead><tbody>\n",
       "                <tr>\n",
       "                        <th id=\"T_efe1a88c_a2ba_11ea_8cc5_68071524a35alevel0_row0\" class=\"row_heading level0 row0\" >True Other</th>\n",
       "                        <td id=\"T_efe1a88c_a2ba_11ea_8cc5_68071524a35arow0_col0\" class=\"data row0 col0\" >68.87%</td>\n",
       "                        <td id=\"T_efe1a88c_a2ba_11ea_8cc5_68071524a35arow0_col1\" class=\"data row0 col1\" >6.60%</td>\n",
       "            </tr>\n",
       "            <tr>\n",
       "                        <th id=\"T_efe1a88c_a2ba_11ea_8cc5_68071524a35alevel0_row1\" class=\"row_heading level0 row1\" >True Van Gogh</th>\n",
       "                        <td id=\"T_efe1a88c_a2ba_11ea_8cc5_68071524a35arow1_col0\" class=\"data row1 col0\" >13.21%</td>\n",
       "                        <td id=\"T_efe1a88c_a2ba_11ea_8cc5_68071524a35arow1_col1\" class=\"data row1 col1\" >11.32%</td>\n",
       "            </tr>\n",
       "    </tbody></table>"
      ],
      "text/plain": [
       "<pandas.io.formats.style.Styler at 0x15331d94dd8>"
      ]
     },
     "metadata": {},
     "output_type": "display_data"
    },
    {
     "name": "stdout",
     "output_type": "stream",
     "text": [
      "Score on test data: 80.19%\n",
      "P[True Van|Pred Van]= 63.16%\n",
      "--------------------------\n",
      "['Pred_Whole', 'Pred_Face_Hist', 'No_Faces', 'Mean_Strokes']\n"
     ]
    },
    {
     "data": {
      "text/html": [
       "<style  type=\"text/css\" >\n",
       "</style><table id=\"T_efe66036_a2ba_11ea_b42b_68071524a35a\" ><thead>    <tr>        <th class=\"blank level0\" ></th>        <th class=\"col_heading level0 col0\" >Pred. Other</th>        <th class=\"col_heading level0 col1\" >Pred. Van Gog</th>    </tr></thead><tbody>\n",
       "                <tr>\n",
       "                        <th id=\"T_efe66036_a2ba_11ea_b42b_68071524a35alevel0_row0\" class=\"row_heading level0 row0\" >True Other</th>\n",
       "                        <td id=\"T_efe66036_a2ba_11ea_b42b_68071524a35arow0_col0\" class=\"data row0 col0\" >66.04%</td>\n",
       "                        <td id=\"T_efe66036_a2ba_11ea_b42b_68071524a35arow0_col1\" class=\"data row0 col1\" >9.43%</td>\n",
       "            </tr>\n",
       "            <tr>\n",
       "                        <th id=\"T_efe66036_a2ba_11ea_b42b_68071524a35alevel0_row1\" class=\"row_heading level0 row1\" >True Van Gogh</th>\n",
       "                        <td id=\"T_efe66036_a2ba_11ea_b42b_68071524a35arow1_col0\" class=\"data row1 col0\" >14.62%</td>\n",
       "                        <td id=\"T_efe66036_a2ba_11ea_b42b_68071524a35arow1_col1\" class=\"data row1 col1\" >9.91%</td>\n",
       "            </tr>\n",
       "    </tbody></table>"
      ],
      "text/plain": [
       "<pandas.io.formats.style.Styler at 0x15331d94a58>"
      ]
     },
     "metadata": {},
     "output_type": "display_data"
    },
    {
     "name": "stdout",
     "output_type": "stream",
     "text": [
      "Score on test data: 75.94%\n",
      "P[True Van|Pred Van]= 51.22%\n",
      "--------------------------\n",
      "['Pred_Face', 'Pred_Face_Hist', 'No_Faces', 'Mean_Strokes']\n"
     ]
    },
    {
     "data": {
      "text/html": [
       "<style  type=\"text/css\" >\n",
       "</style><table id=\"T_efeaa306_a2ba_11ea_992b_68071524a35a\" ><thead>    <tr>        <th class=\"blank level0\" ></th>        <th class=\"col_heading level0 col0\" >Pred. Other</th>        <th class=\"col_heading level0 col1\" >Pred. Van Gog</th>    </tr></thead><tbody>\n",
       "                <tr>\n",
       "                        <th id=\"T_efeaa306_a2ba_11ea_992b_68071524a35alevel0_row0\" class=\"row_heading level0 row0\" >True Other</th>\n",
       "                        <td id=\"T_efeaa306_a2ba_11ea_992b_68071524a35arow0_col0\" class=\"data row0 col0\" >68.87%</td>\n",
       "                        <td id=\"T_efeaa306_a2ba_11ea_992b_68071524a35arow0_col1\" class=\"data row0 col1\" >6.60%</td>\n",
       "            </tr>\n",
       "            <tr>\n",
       "                        <th id=\"T_efeaa306_a2ba_11ea_992b_68071524a35alevel0_row1\" class=\"row_heading level0 row1\" >True Van Gogh</th>\n",
       "                        <td id=\"T_efeaa306_a2ba_11ea_992b_68071524a35arow1_col0\" class=\"data row1 col0\" >13.21%</td>\n",
       "                        <td id=\"T_efeaa306_a2ba_11ea_992b_68071524a35arow1_col1\" class=\"data row1 col1\" >11.32%</td>\n",
       "            </tr>\n",
       "    </tbody></table>"
      ],
      "text/plain": [
       "<pandas.io.formats.style.Styler at 0x1531513ee10>"
      ]
     },
     "metadata": {},
     "output_type": "display_data"
    },
    {
     "name": "stdout",
     "output_type": "stream",
     "text": [
      "Score on test data: 80.19%\n",
      "P[True Van|Pred Van]= 63.16%\n",
      "--------------------------\n",
      "['Pred_Whole', 'Pred_Face', 'Pred_Face_Hist', 'No_Faces', 'Mean_Strokes']\n"
     ]
    },
    {
     "data": {
      "text/html": [
       "<style  type=\"text/css\" >\n",
       "</style><table id=\"T_efef6f34_a2ba_11ea_83f2_68071524a35a\" ><thead>    <tr>        <th class=\"blank level0\" ></th>        <th class=\"col_heading level0 col0\" >Pred. Other</th>        <th class=\"col_heading level0 col1\" >Pred. Van Gog</th>    </tr></thead><tbody>\n",
       "                <tr>\n",
       "                        <th id=\"T_efef6f34_a2ba_11ea_83f2_68071524a35alevel0_row0\" class=\"row_heading level0 row0\" >True Other</th>\n",
       "                        <td id=\"T_efef6f34_a2ba_11ea_83f2_68071524a35arow0_col0\" class=\"data row0 col0\" >65.09%</td>\n",
       "                        <td id=\"T_efef6f34_a2ba_11ea_83f2_68071524a35arow0_col1\" class=\"data row0 col1\" >10.38%</td>\n",
       "            </tr>\n",
       "            <tr>\n",
       "                        <th id=\"T_efef6f34_a2ba_11ea_83f2_68071524a35alevel0_row1\" class=\"row_heading level0 row1\" >True Van Gogh</th>\n",
       "                        <td id=\"T_efef6f34_a2ba_11ea_83f2_68071524a35arow1_col0\" class=\"data row1 col0\" >12.26%</td>\n",
       "                        <td id=\"T_efef6f34_a2ba_11ea_83f2_68071524a35arow1_col1\" class=\"data row1 col1\" >12.26%</td>\n",
       "            </tr>\n",
       "    </tbody></table>"
      ],
      "text/plain": [
       "<pandas.io.formats.style.Styler at 0x15309edf4a8>"
      ]
     },
     "metadata": {},
     "output_type": "display_data"
    },
    {
     "name": "stdout",
     "output_type": "stream",
     "text": [
      "Score on test data: 77.36%\n",
      "P[True Van|Pred Van]= 54.17%\n",
      "--------------------------\n",
      "['Pred_Hist', 'No_Faces', 'Mean_Strokes']\n"
     ]
    },
    {
     "data": {
      "text/html": [
       "<style  type=\"text/css\" >\n",
       "</style><table id=\"T_eff2eee8_a2ba_11ea_90d2_68071524a35a\" ><thead>    <tr>        <th class=\"blank level0\" ></th>        <th class=\"col_heading level0 col0\" >Pred. Other</th>        <th class=\"col_heading level0 col1\" >Pred. Van Gog</th>    </tr></thead><tbody>\n",
       "                <tr>\n",
       "                        <th id=\"T_eff2eee8_a2ba_11ea_90d2_68071524a35alevel0_row0\" class=\"row_heading level0 row0\" >True Other</th>\n",
       "                        <td id=\"T_eff2eee8_a2ba_11ea_90d2_68071524a35arow0_col0\" class=\"data row0 col0\" >70.75%</td>\n",
       "                        <td id=\"T_eff2eee8_a2ba_11ea_90d2_68071524a35arow0_col1\" class=\"data row0 col1\" >4.72%</td>\n",
       "            </tr>\n",
       "            <tr>\n",
       "                        <th id=\"T_eff2eee8_a2ba_11ea_90d2_68071524a35alevel0_row1\" class=\"row_heading level0 row1\" >True Van Gogh</th>\n",
       "                        <td id=\"T_eff2eee8_a2ba_11ea_90d2_68071524a35arow1_col0\" class=\"data row1 col0\" >13.21%</td>\n",
       "                        <td id=\"T_eff2eee8_a2ba_11ea_90d2_68071524a35arow1_col1\" class=\"data row1 col1\" >11.32%</td>\n",
       "            </tr>\n",
       "    </tbody></table>"
      ],
      "text/plain": [
       "<pandas.io.formats.style.Styler at 0x1532fe600b8>"
      ]
     },
     "metadata": {},
     "output_type": "display_data"
    },
    {
     "name": "stdout",
     "output_type": "stream",
     "text": [
      "Score on test data: 82.08%\n",
      "P[True Van|Pred Van]= 70.59%\n",
      "--------------------------\n",
      "['Pred_Whole', 'Pred_Hist', 'No_Faces', 'Mean_Strokes']\n"
     ]
    },
    {
     "data": {
      "text/html": [
       "<style  type=\"text/css\" >\n",
       "</style><table id=\"T_eff731ae_a2ba_11ea_814f_68071524a35a\" ><thead>    <tr>        <th class=\"blank level0\" ></th>        <th class=\"col_heading level0 col0\" >Pred. Other</th>        <th class=\"col_heading level0 col1\" >Pred. Van Gog</th>    </tr></thead><tbody>\n",
       "                <tr>\n",
       "                        <th id=\"T_eff731ae_a2ba_11ea_814f_68071524a35alevel0_row0\" class=\"row_heading level0 row0\" >True Other</th>\n",
       "                        <td id=\"T_eff731ae_a2ba_11ea_814f_68071524a35arow0_col0\" class=\"data row0 col0\" >66.51%</td>\n",
       "                        <td id=\"T_eff731ae_a2ba_11ea_814f_68071524a35arow0_col1\" class=\"data row0 col1\" >8.96%</td>\n",
       "            </tr>\n",
       "            <tr>\n",
       "                        <th id=\"T_eff731ae_a2ba_11ea_814f_68071524a35alevel0_row1\" class=\"row_heading level0 row1\" >True Van Gogh</th>\n",
       "                        <td id=\"T_eff731ae_a2ba_11ea_814f_68071524a35arow1_col0\" class=\"data row1 col0\" >14.15%</td>\n",
       "                        <td id=\"T_eff731ae_a2ba_11ea_814f_68071524a35arow1_col1\" class=\"data row1 col1\" >10.38%</td>\n",
       "            </tr>\n",
       "    </tbody></table>"
      ],
      "text/plain": [
       "<pandas.io.formats.style.Styler at 0x1532fe60ac8>"
      ]
     },
     "metadata": {},
     "output_type": "display_data"
    },
    {
     "name": "stdout",
     "output_type": "stream",
     "text": [
      "Score on test data: 76.89%\n",
      "P[True Van|Pred Van]= 53.66%\n",
      "--------------------------\n",
      "['Pred_Face', 'Pred_Hist', 'No_Faces', 'Mean_Strokes']\n"
     ]
    },
    {
     "data": {
      "text/html": [
       "<style  type=\"text/css\" >\n",
       "</style><table id=\"T_effaff9a_a2ba_11ea_8c59_68071524a35a\" ><thead>    <tr>        <th class=\"blank level0\" ></th>        <th class=\"col_heading level0 col0\" >Pred. Other</th>        <th class=\"col_heading level0 col1\" >Pred. Van Gog</th>    </tr></thead><tbody>\n",
       "                <tr>\n",
       "                        <th id=\"T_effaff9a_a2ba_11ea_8c59_68071524a35alevel0_row0\" class=\"row_heading level0 row0\" >True Other</th>\n",
       "                        <td id=\"T_effaff9a_a2ba_11ea_8c59_68071524a35arow0_col0\" class=\"data row0 col0\" >68.87%</td>\n",
       "                        <td id=\"T_effaff9a_a2ba_11ea_8c59_68071524a35arow0_col1\" class=\"data row0 col1\" >6.60%</td>\n",
       "            </tr>\n",
       "            <tr>\n",
       "                        <th id=\"T_effaff9a_a2ba_11ea_8c59_68071524a35alevel0_row1\" class=\"row_heading level0 row1\" >True Van Gogh</th>\n",
       "                        <td id=\"T_effaff9a_a2ba_11ea_8c59_68071524a35arow1_col0\" class=\"data row1 col0\" >13.21%</td>\n",
       "                        <td id=\"T_effaff9a_a2ba_11ea_8c59_68071524a35arow1_col1\" class=\"data row1 col1\" >11.32%</td>\n",
       "            </tr>\n",
       "    </tbody></table>"
      ],
      "text/plain": [
       "<pandas.io.formats.style.Styler at 0x15331ddab38>"
      ]
     },
     "metadata": {},
     "output_type": "display_data"
    },
    {
     "name": "stdout",
     "output_type": "stream",
     "text": [
      "Score on test data: 80.19%\n",
      "P[True Van|Pred Van]= 63.16%\n",
      "--------------------------\n",
      "['Pred_Whole', 'Pred_Face', 'Pred_Hist', 'No_Faces', 'Mean_Strokes']\n"
     ]
    },
    {
     "data": {
      "text/html": [
       "<style  type=\"text/css\" >\n",
       "</style><table id=\"T_efff2f7a_a2ba_11ea_b185_68071524a35a\" ><thead>    <tr>        <th class=\"blank level0\" ></th>        <th class=\"col_heading level0 col0\" >Pred. Other</th>        <th class=\"col_heading level0 col1\" >Pred. Van Gog</th>    </tr></thead><tbody>\n",
       "                <tr>\n",
       "                        <th id=\"T_efff2f7a_a2ba_11ea_b185_68071524a35alevel0_row0\" class=\"row_heading level0 row0\" >True Other</th>\n",
       "                        <td id=\"T_efff2f7a_a2ba_11ea_b185_68071524a35arow0_col0\" class=\"data row0 col0\" >66.04%</td>\n",
       "                        <td id=\"T_efff2f7a_a2ba_11ea_b185_68071524a35arow0_col1\" class=\"data row0 col1\" >9.43%</td>\n",
       "            </tr>\n",
       "            <tr>\n",
       "                        <th id=\"T_efff2f7a_a2ba_11ea_b185_68071524a35alevel0_row1\" class=\"row_heading level0 row1\" >True Van Gogh</th>\n",
       "                        <td id=\"T_efff2f7a_a2ba_11ea_b185_68071524a35arow1_col0\" class=\"data row1 col0\" >12.26%</td>\n",
       "                        <td id=\"T_efff2f7a_a2ba_11ea_b185_68071524a35arow1_col1\" class=\"data row1 col1\" >12.26%</td>\n",
       "            </tr>\n",
       "    </tbody></table>"
      ],
      "text/plain": [
       "<pandas.io.formats.style.Styler at 0x15331dda780>"
      ]
     },
     "metadata": {},
     "output_type": "display_data"
    },
    {
     "name": "stdout",
     "output_type": "stream",
     "text": [
      "Score on test data: 78.30%\n",
      "P[True Van|Pred Van]= 56.52%\n",
      "--------------------------\n",
      "['Pred_Face_Hist', 'Pred_Hist', 'No_Faces', 'Mean_Strokes']\n"
     ]
    },
    {
     "data": {
      "text/html": [
       "<style  type=\"text/css\" >\n",
       "</style><table id=\"T_f003245a_a2ba_11ea_a0b2_68071524a35a\" ><thead>    <tr>        <th class=\"blank level0\" ></th>        <th class=\"col_heading level0 col0\" >Pred. Other</th>        <th class=\"col_heading level0 col1\" >Pred. Van Gog</th>    </tr></thead><tbody>\n",
       "                <tr>\n",
       "                        <th id=\"T_f003245a_a2ba_11ea_a0b2_68071524a35alevel0_row0\" class=\"row_heading level0 row0\" >True Other</th>\n",
       "                        <td id=\"T_f003245a_a2ba_11ea_a0b2_68071524a35arow0_col0\" class=\"data row0 col0\" >64.62%</td>\n",
       "                        <td id=\"T_f003245a_a2ba_11ea_a0b2_68071524a35arow0_col1\" class=\"data row0 col1\" >10.85%</td>\n",
       "            </tr>\n",
       "            <tr>\n",
       "                        <th id=\"T_f003245a_a2ba_11ea_a0b2_68071524a35alevel0_row1\" class=\"row_heading level0 row1\" >True Van Gogh</th>\n",
       "                        <td id=\"T_f003245a_a2ba_11ea_a0b2_68071524a35arow1_col0\" class=\"data row1 col0\" >13.21%</td>\n",
       "                        <td id=\"T_f003245a_a2ba_11ea_a0b2_68071524a35arow1_col1\" class=\"data row1 col1\" >11.32%</td>\n",
       "            </tr>\n",
       "    </tbody></table>"
      ],
      "text/plain": [
       "<pandas.io.formats.style.Styler at 0x15331ddaef0>"
      ]
     },
     "metadata": {},
     "output_type": "display_data"
    },
    {
     "name": "stdout",
     "output_type": "stream",
     "text": [
      "Score on test data: 75.94%\n",
      "P[True Van|Pred Van]= 51.06%\n",
      "--------------------------\n",
      "['Pred_Whole', 'Pred_Face_Hist', 'Pred_Hist', 'No_Faces', 'Mean_Strokes']\n"
     ]
    },
    {
     "data": {
      "text/html": [
       "<style  type=\"text/css\" >\n",
       "</style><table id=\"T_f006f23a_a2ba_11ea_8259_68071524a35a\" ><thead>    <tr>        <th class=\"blank level0\" ></th>        <th class=\"col_heading level0 col0\" >Pred. Other</th>        <th class=\"col_heading level0 col1\" >Pred. Van Gog</th>    </tr></thead><tbody>\n",
       "                <tr>\n",
       "                        <th id=\"T_f006f23a_a2ba_11ea_8259_68071524a35alevel0_row0\" class=\"row_heading level0 row0\" >True Other</th>\n",
       "                        <td id=\"T_f006f23a_a2ba_11ea_8259_68071524a35arow0_col0\" class=\"data row0 col0\" >65.57%</td>\n",
       "                        <td id=\"T_f006f23a_a2ba_11ea_8259_68071524a35arow0_col1\" class=\"data row0 col1\" >9.91%</td>\n",
       "            </tr>\n",
       "            <tr>\n",
       "                        <th id=\"T_f006f23a_a2ba_11ea_8259_68071524a35alevel0_row1\" class=\"row_heading level0 row1\" >True Van Gogh</th>\n",
       "                        <td id=\"T_f006f23a_a2ba_11ea_8259_68071524a35arow1_col0\" class=\"data row1 col0\" >11.79%</td>\n",
       "                        <td id=\"T_f006f23a_a2ba_11ea_8259_68071524a35arow1_col1\" class=\"data row1 col1\" >12.74%</td>\n",
       "            </tr>\n",
       "    </tbody></table>"
      ],
      "text/plain": [
       "<pandas.io.formats.style.Styler at 0x15331ddacf8>"
      ]
     },
     "metadata": {},
     "output_type": "display_data"
    },
    {
     "name": "stdout",
     "output_type": "stream",
     "text": [
      "Score on test data: 78.30%\n",
      "P[True Van|Pred Van]= 56.25%\n",
      "--------------------------\n",
      "['Pred_Face', 'Pred_Face_Hist', 'Pred_Hist', 'No_Faces', 'Mean_Strokes']\n"
     ]
    },
    {
     "data": {
      "text/html": [
       "<style  type=\"text/css\" >\n",
       "</style><table id=\"T_f00a4b62_a2ba_11ea_8744_68071524a35a\" ><thead>    <tr>        <th class=\"blank level0\" ></th>        <th class=\"col_heading level0 col0\" >Pred. Other</th>        <th class=\"col_heading level0 col1\" >Pred. Van Gog</th>    </tr></thead><tbody>\n",
       "                <tr>\n",
       "                        <th id=\"T_f00a4b62_a2ba_11ea_8744_68071524a35alevel0_row0\" class=\"row_heading level0 row0\" >True Other</th>\n",
       "                        <td id=\"T_f00a4b62_a2ba_11ea_8744_68071524a35arow0_col0\" class=\"data row0 col0\" >69.81%</td>\n",
       "                        <td id=\"T_f00a4b62_a2ba_11ea_8744_68071524a35arow0_col1\" class=\"data row0 col1\" >5.66%</td>\n",
       "            </tr>\n",
       "            <tr>\n",
       "                        <th id=\"T_f00a4b62_a2ba_11ea_8744_68071524a35alevel0_row1\" class=\"row_heading level0 row1\" >True Van Gogh</th>\n",
       "                        <td id=\"T_f00a4b62_a2ba_11ea_8744_68071524a35arow1_col0\" class=\"data row1 col0\" >14.15%</td>\n",
       "                        <td id=\"T_f00a4b62_a2ba_11ea_8744_68071524a35arow1_col1\" class=\"data row1 col1\" >10.38%</td>\n",
       "            </tr>\n",
       "    </tbody></table>"
      ],
      "text/plain": [
       "<pandas.io.formats.style.Styler at 0x15331ddaeb8>"
      ]
     },
     "metadata": {},
     "output_type": "display_data"
    },
    {
     "name": "stdout",
     "output_type": "stream",
     "text": [
      "Score on test data: 80.19%\n",
      "P[True Van|Pred Van]= 64.71%\n",
      "--------------------------\n",
      "['Pred_Whole', 'Pred_Face', 'Pred_Face_Hist', 'Pred_Hist', 'No_Faces', 'Mean_Strokes']\n"
     ]
    },
    {
     "data": {
      "text/html": [
       "<style  type=\"text/css\" >\n",
       "</style><table id=\"T_f00edd98_a2ba_11ea_8354_68071524a35a\" ><thead>    <tr>        <th class=\"blank level0\" ></th>        <th class=\"col_heading level0 col0\" >Pred. Other</th>        <th class=\"col_heading level0 col1\" >Pred. Van Gog</th>    </tr></thead><tbody>\n",
       "                <tr>\n",
       "                        <th id=\"T_f00edd98_a2ba_11ea_8354_68071524a35alevel0_row0\" class=\"row_heading level0 row0\" >True Other</th>\n",
       "                        <td id=\"T_f00edd98_a2ba_11ea_8354_68071524a35arow0_col0\" class=\"data row0 col0\" >65.57%</td>\n",
       "                        <td id=\"T_f00edd98_a2ba_11ea_8354_68071524a35arow0_col1\" class=\"data row0 col1\" >9.91%</td>\n",
       "            </tr>\n",
       "            <tr>\n",
       "                        <th id=\"T_f00edd98_a2ba_11ea_8354_68071524a35alevel0_row1\" class=\"row_heading level0 row1\" >True Van Gogh</th>\n",
       "                        <td id=\"T_f00edd98_a2ba_11ea_8354_68071524a35arow1_col0\" class=\"data row1 col0\" >13.21%</td>\n",
       "                        <td id=\"T_f00edd98_a2ba_11ea_8354_68071524a35arow1_col1\" class=\"data row1 col1\" >11.32%</td>\n",
       "            </tr>\n",
       "    </tbody></table>"
      ],
      "text/plain": [
       "<pandas.io.formats.style.Styler at 0x1532fe60748>"
      ]
     },
     "metadata": {},
     "output_type": "display_data"
    },
    {
     "name": "stdout",
     "output_type": "stream",
     "text": [
      "Score on test data: 76.89%\n",
      "P[True Van|Pred Van]= 53.33%\n",
      "--------------------------\n"
     ]
    }
   ],
   "source": [
    "#Combine all Models\n",
    "\n",
    "all_features= ['Pred_Whole','Pred_Face','Pred_Face_Hist','Pred_Hist','No_Faces','Mean_Strokes']\n",
    "subsets=powerset_no_empty(all_features)\n",
    "\n",
    "for s in subsets:\n",
    "    tree=DecisionTreeClassifier(max_depth=len(s)+1)\n",
    "    X_train=Catalog_train[s]\n",
    "    X_test=Catalog_test[s]\n",
    "    \n",
    "    print(s)\n",
    "    tree.fit(X_train,y_train)\n",
    "    #print_results(X_train,y_train,tree,'train')\n",
    "    print_results(X_test,y_test,tree)\n",
    "    print('--------------------------')"
   ]
  },
  {
   "cell_type": "code",
   "execution_count": 17,
   "metadata": {
    "scrolled": true
   },
   "outputs": [
    {
     "data": {
      "text/html": [
       "<style  type=\"text/css\" >\n",
       "</style><table id=\"T_1dbdd024_a2bc_11ea_bacc_68071524a35a\" ><thead>    <tr>        <th class=\"blank level0\" ></th>        <th class=\"col_heading level0 col0\" >Pred. Other</th>        <th class=\"col_heading level0 col1\" >Pred. Van Gog</th>    </tr></thead><tbody>\n",
       "                <tr>\n",
       "                        <th id=\"T_1dbdd024_a2bc_11ea_bacc_68071524a35alevel0_row0\" class=\"row_heading level0 row0\" >True Other</th>\n",
       "                        <td id=\"T_1dbdd024_a2bc_11ea_bacc_68071524a35arow0_col0\" class=\"data row0 col0\" >73.23%</td>\n",
       "                        <td id=\"T_1dbdd024_a2bc_11ea_bacc_68071524a35arow0_col1\" class=\"data row0 col1\" >2.24%</td>\n",
       "            </tr>\n",
       "            <tr>\n",
       "                        <th id=\"T_1dbdd024_a2bc_11ea_bacc_68071524a35alevel0_row1\" class=\"row_heading level0 row1\" >True Van Gogh</th>\n",
       "                        <td id=\"T_1dbdd024_a2bc_11ea_bacc_68071524a35arow1_col0\" class=\"data row1 col0\" >8.37%</td>\n",
       "                        <td id=\"T_1dbdd024_a2bc_11ea_bacc_68071524a35arow1_col1\" class=\"data row1 col1\" >16.16%</td>\n",
       "            </tr>\n",
       "    </tbody></table>"
      ],
      "text/plain": [
       "<pandas.io.formats.style.Styler at 0x1531513e8d0>"
      ]
     },
     "metadata": {},
     "output_type": "display_data"
    },
    {
     "name": "stdout",
     "output_type": "stream",
     "text": [
      "Score on train data: 89.39%\n",
      "P[True Van|Pred Van]= 87.82%\n"
     ]
    },
    {
     "data": {
      "text/html": [
       "<style  type=\"text/css\" >\n",
       "</style><table id=\"T_1dc0b462_a2bc_11ea_a61b_68071524a35a\" ><thead>    <tr>        <th class=\"blank level0\" ></th>        <th class=\"col_heading level0 col0\" >Pred. Other</th>        <th class=\"col_heading level0 col1\" >Pred. Van Gog</th>    </tr></thead><tbody>\n",
       "                <tr>\n",
       "                        <th id=\"T_1dc0b462_a2bc_11ea_a61b_68071524a35alevel0_row0\" class=\"row_heading level0 row0\" >True Other</th>\n",
       "                        <td id=\"T_1dc0b462_a2bc_11ea_a61b_68071524a35arow0_col0\" class=\"data row0 col0\" >70.75%</td>\n",
       "                        <td id=\"T_1dc0b462_a2bc_11ea_a61b_68071524a35arow0_col1\" class=\"data row0 col1\" >4.72%</td>\n",
       "            </tr>\n",
       "            <tr>\n",
       "                        <th id=\"T_1dc0b462_a2bc_11ea_a61b_68071524a35alevel0_row1\" class=\"row_heading level0 row1\" >True Van Gogh</th>\n",
       "                        <td id=\"T_1dc0b462_a2bc_11ea_a61b_68071524a35arow1_col0\" class=\"data row1 col0\" >13.21%</td>\n",
       "                        <td id=\"T_1dc0b462_a2bc_11ea_a61b_68071524a35arow1_col1\" class=\"data row1 col1\" >11.32%</td>\n",
       "            </tr>\n",
       "    </tbody></table>"
      ],
      "text/plain": [
       "<pandas.io.formats.style.Styler at 0x1531513eeb8>"
      ]
     },
     "metadata": {},
     "output_type": "display_data"
    },
    {
     "name": "stdout",
     "output_type": "stream",
     "text": [
      "Score on test data: 82.08%\n",
      "P[True Van|Pred Van]= 70.59%\n"
     ]
    }
   ],
   "source": [
    "#The best configuration seems to be:3 features No_Faces, Mean_Strokes, and Pred_Hist \n",
    "\n",
    "tree=DecisionTreeClassifier(max_depth=4)\n",
    "X_train=Catalog_train[['No_Faces','Mean_Strokes','Pred_Hist']]\n",
    "X_test=Catalog_test[['No_Faces','Mean_Strokes','Pred_Hist']]\n",
    "    \n",
    "tree.fit(X_train,y_train)\n",
    "print_results(X_train,y_train,tree,'train')\n",
    "print_results(X_test,y_test,tree)"
   ]
  },
  {
   "cell_type": "code",
   "execution_count": null,
   "metadata": {},
   "outputs": [],
   "source": []
  },
  {
   "cell_type": "code",
   "execution_count": null,
   "metadata": {},
   "outputs": [],
   "source": []
  }
 ],
 "metadata": {
  "kernelspec": {
   "display_name": "Python 3",
   "language": "python",
   "name": "python3"
  },
  "language_info": {
   "codemirror_mode": {
    "name": "ipython",
    "version": 3
   },
   "file_extension": ".py",
   "mimetype": "text/x-python",
   "name": "python",
   "nbconvert_exporter": "python",
   "pygments_lexer": "ipython3",
   "version": "3.6.10"
  }
 },
 "nbformat": 4,
 "nbformat_minor": 4
}
